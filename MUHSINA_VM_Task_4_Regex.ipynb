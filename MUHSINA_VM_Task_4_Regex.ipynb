{
  "nbformat": 4,
  "nbformat_minor": 0,
  "metadata": {
    "colab": {
      "provenance": []
    },
    "kernelspec": {
      "name": "python3",
      "display_name": "Python 3"
    },
    "language_info": {
      "name": "python"
    }
  },
  "cells": [
    {
      "cell_type": "markdown",
      "source": [
        "1. Write a Python program to check that a string contains only a certain set of characters (in this case a-z, A-Z and 0-9).\n",
        "\n"
      ],
      "metadata": {
        "id": "fpQX9wBhb6ox"
      }
    },
    {
      "cell_type": "code",
      "execution_count": null,
      "metadata": {
        "id": "5HKhizIkbt59",
        "colab": {
          "base_uri": "https://localhost:8080/"
        },
        "outputId": "0948afca-9ecd-44be-93f7-8b1429e170da"
      },
      "outputs": [
        {
          "output_type": "stream",
          "name": "stdout",
          "text": [
            "The string matches the pattern\n",
            "string does not match the pattern\n"
          ]
        }
      ],
      "source": [
        "import re\n",
        "def fun(check_str):\n",
        "  pattern =  r'^[a-zA-Z0-9]+$'\n",
        "  if re.search(pattern,check_str):\n",
        "    print('The string matches the pattern')\n",
        "  else:\n",
        "    print(\"string does not match the pattern\")\n",
        "\n",
        "fun(\"entrielivate1888\")\n",
        "fun(\"entrielivate@gamil.com\")\n"
      ]
    },
    {
      "cell_type": "code",
      "source": [
        "import re\n",
        "\n",
        "def fun(check_str):\n",
        "  pattern = r'^[a-zA-Z0-9]+$'\n",
        "  return bool(re.search(pattern,check_str))\n",
        "\n",
        "test_strings = [\"abc123\", \"hi!\", \"12345\", \"@.com\"]\n",
        "for string in test_strings:\n",
        "  if fun(string):\n",
        "    print(f\"'{string}' contains only alphanumeric characters.\")\n",
        "  else:\n",
        "    print(f\"'{string}' contains non-alphanumeric characters.\")\n"
      ],
      "metadata": {
        "colab": {
          "base_uri": "https://localhost:8080/"
        },
        "id": "pEWFjo0DeUb-",
        "outputId": "284a773f-d416-4505-b003-ef4e898cea1a"
      },
      "execution_count": null,
      "outputs": [
        {
          "output_type": "stream",
          "name": "stdout",
          "text": [
            "'abc123' contains only alphanumeric characters.\n",
            "'hi!' contains non-alphanumeric characters.\n",
            "'12345' contains only alphanumeric characters.\n",
            "'@.com' contains non-alphanumeric characters.\n"
          ]
        }
      ]
    },
    {
      "cell_type": "code",
      "source": [
        "import re\n",
        "string=input(\"Enter a string:\")\n",
        "pattern=re.compile(r'^[a-zA-Z0-9]+$')\n",
        "\n",
        "# define a function for matching the pattern with the string\n",
        "def fun(check_str):\n",
        "  if pattern.match(check_str):\n",
        "     print(\"Given string contains only a-z, A-Z and 0-9 characters\")\n",
        "  else:\n",
        "     print(\"Given string contains characters other than a-z, A-Z and 0-9\")\n",
        "\n",
        "#call the function\n",
        "fun(string)"
      ],
      "metadata": {
        "colab": {
          "base_uri": "https://localhost:8080/"
        },
        "id": "EhGT-_TrgASl",
        "outputId": "bdc59c1d-2383-49ce-f2f4-7c218cb2078f"
      },
      "execution_count": null,
      "outputs": [
        {
          "output_type": "stream",
          "name": "stdout",
          "text": [
            "Enter a string:entrielibate\n",
            "Given string contains only a-z, A-Z and 0-9 characters\n"
          ]
        }
      ]
    },
    {
      "cell_type": "markdown",
      "source": [
        "2. Write a Python program that matches a string that has an a followed by zero or more b's.\n",
        "\n"
      ],
      "metadata": {
        "id": "rtdxRzltcRtS"
      }
    },
    {
      "cell_type": "code",
      "source": [
        "import re\n",
        "def fun(match_str):\n",
        "  pattern =r\"a(b*)$\"\n",
        "  if re.search(pattern,match_str):\n",
        "    print('The string matches the pattern')\n",
        "  else:\n",
        "    print(\"string does not match the pattern\")\n",
        "\n",
        "fun(\"abbbb\")\n",
        "fun(\"alp\")"
      ],
      "metadata": {
        "id": "ZjdCBYZAcZGl",
        "colab": {
          "base_uri": "https://localhost:8080/"
        },
        "outputId": "b4716547-5b2e-4e52-8d71-b9aee4be1af8"
      },
      "execution_count": null,
      "outputs": [
        {
          "output_type": "stream",
          "name": "stdout",
          "text": [
            "The string matches the pattern\n",
            "string does not match the pattern\n"
          ]
        }
      ]
    },
    {
      "cell_type": "code",
      "source": [
        "import re\n",
        "string=[\"abbb\",\"abc\",\"a\",\"ab0\",\"alp\",\"fbbty\",\"a0\"]\n",
        "pattern=(r'ab*$')\n",
        "\n",
        "#define a function for matching the pattern with the string\n",
        "def fun(string):\n",
        "  for s in string:\n",
        "      if re.fullmatch(pattern,s):\n",
        "           print(f\"The string '{s}' has an 'a' followed by zero or more b's\")\n",
        "      else:\n",
        "           print(f\"The string '{s}' does not match the pattern\")\n",
        "\n",
        "#call the function\n",
        "print(\"String:\",string)\n",
        "fun(string)"
      ],
      "metadata": {
        "colab": {
          "base_uri": "https://localhost:8080/"
        },
        "id": "Jo61_ZRqskjs",
        "outputId": "1cc77f73-4f78-45b5-a08f-78f0ee077835"
      },
      "execution_count": null,
      "outputs": [
        {
          "output_type": "stream",
          "name": "stdout",
          "text": [
            "String: ['abbb', 'abc', 'a', 'ab0', 'alp', 'fbbty', 'a0']\n",
            "The string 'abbb' has an 'a' followed by zero or more b's\n",
            "The string 'abc' does not match the pattern\n",
            "The string 'a' has an 'a' followed by zero or more b's\n",
            "The string 'ab0' does not match the pattern\n",
            "The string 'alp' does not match the pattern\n",
            "The string 'fbbty' does not match the pattern\n",
            "The string 'a0' does not match the pattern\n"
          ]
        }
      ]
    },
    {
      "cell_type": "markdown",
      "source": [
        "3. Replace only the first occurrence of 5 with five for the given string\n",
        "\n"
      ],
      "metadata": {
        "id": "kyvbz3eNcZri"
      }
    },
    {
      "cell_type": "code",
      "source": [
        "import re\n",
        "\n",
        "ip= 'They ate 5 apples and 5 oranges'\n",
        "result = re.sub(r'5', 'five', ip, count=1)\n",
        "\n",
        "print(result)"
      ],
      "metadata": {
        "id": "pgZy45dxcqSg",
        "colab": {
          "base_uri": "https://localhost:8080/"
        },
        "outputId": "802108de-4d06-47b8-d8ac-6cee9d1ac745"
      },
      "execution_count": null,
      "outputs": [
        {
          "output_type": "stream",
          "name": "stdout",
          "text": [
            "They ate five apples and 5 oranges\n"
          ]
        }
      ]
    },
    {
      "cell_type": "markdown",
      "source": [
        "4. Write a Python program that matches a string that has an a followed by three 'b'.\n",
        "\n"
      ],
      "metadata": {
        "id": "h_b1-o6ncuzM"
      }
    },
    {
      "cell_type": "code",
      "source": [
        "import re\n",
        "\n",
        "def fun(match_str):\n",
        "  pattern =  r\"a(b{3})\"\n",
        "  if re.search(pattern,match_str):\n",
        "    print('The string matches the pattern')\n",
        "  else:\n",
        "    print(\"string does not match the pattern\")\n",
        "\n",
        "fun(\"abb\")\n",
        "fun(\"abbb\")\n",
        "fun(\"abbbb\")\n"
      ],
      "metadata": {
        "id": "eWIRl3LccqwE",
        "colab": {
          "base_uri": "https://localhost:8080/"
        },
        "outputId": "2912b55a-b852-4369-bf99-6f6c067bbbe0"
      },
      "execution_count": null,
      "outputs": [
        {
          "output_type": "stream",
          "name": "stdout",
          "text": [
            "string does not match the pattern\n",
            "The string matches the pattern\n",
            "The string matches the pattern\n"
          ]
        }
      ]
    },
    {
      "cell_type": "code",
      "source": [
        "import re\n",
        "string=[\"ab\",\"acbbb\",\"abbb\",\"a\",\"abba\",\"abbba\"]\n",
        "print(string)\n",
        "pattern=r'ab{3}'\n",
        "for s in string:\n",
        "    if re.fullmatch(pattern,s):\n",
        "        print(f\"String '{s}' as an 'a' followed by three 'b'\")\n",
        "    else:\n",
        "        print(f\"String '{s}': Not matches\")\n"
      ],
      "metadata": {
        "colab": {
          "base_uri": "https://localhost:8080/"
        },
        "id": "Owx23ompzmVn",
        "outputId": "05832855-2730-40fb-afeb-35276a2a869e"
      },
      "execution_count": null,
      "outputs": [
        {
          "output_type": "stream",
          "name": "stdout",
          "text": [
            "['ab', 'acbbb', 'abbb', 'a', 'abba', 'abbba']\n",
            "String 'ab': Not matches\n",
            "String 'acbbb': Not matches\n",
            "String 'abbb' as an 'a' followed by three 'b'\n",
            "String 'a': Not matches\n",
            "String 'abba': Not matches\n",
            "String 'abbba': Not matches\n"
          ]
        }
      ]
    },
    {
      "cell_type": "markdown",
      "source": [
        "5. Write a Python program that matches a string that has an 'a' followed by anything ending in 'b'.\n",
        "\n"
      ],
      "metadata": {
        "id": "K2vPe01bc2LN"
      }
    },
    {
      "cell_type": "code",
      "source": [
        "import re\n",
        "\n",
        "def fun(match_str):\n",
        "  pattern = r\"^a.+b$\"\n",
        "  if re.search(pattern,match_str):\n",
        "    print('The string matches the pattern')\n",
        "  else:\n",
        "    print(\"string does not match the pattern\")\n",
        "\n",
        "fun(\"ab_.b\")\n",
        "fun(\"almpopqb\")\n",
        "fun(\"abcd\")\n",
        "fun(\"ab\")\n"
      ],
      "metadata": {
        "id": "f8KfX59qc3UJ",
        "colab": {
          "base_uri": "https://localhost:8080/"
        },
        "outputId": "459df594-47b1-4178-d726-a77b9aac1f7a"
      },
      "execution_count": null,
      "outputs": [
        {
          "output_type": "stream",
          "name": "stdout",
          "text": [
            "The string matches the pattern\n",
            "The string matches the pattern\n",
            "string does not match the pattern\n",
            "string does not match the pattern\n"
          ]
        }
      ]
    },
    {
      "cell_type": "markdown",
      "source": [
        "6. Write a Python program to search for numbers (0-9) of length between 1 and 3 in a given string."
      ],
      "metadata": {
        "id": "NyL-DhqXdZi7"
      }
    },
    {
      "cell_type": "code",
      "source": [
        "import re\n",
        "\n",
        "txt=\"Exercises number 1, 12, 13 and 345 are important\"\n",
        "pattern=r'\\b[0-9]{1,3}\\b'   #'\\b\\d{1,3}\\b'(digits length)\n",
        "result=re.findall(pattern,txt)\n",
        "print(result)"
      ],
      "metadata": {
        "id": "pWsu0HljdnKX",
        "colab": {
          "base_uri": "https://localhost:8080/"
        },
        "outputId": "e2a501a6-46f6-43b1-c2e0-e625d88d60e4"
      },
      "execution_count": 9,
      "outputs": [
        {
          "output_type": "stream",
          "name": "stdout",
          "text": [
            "['1', '12', '13', '345']\n"
          ]
        }
      ]
    },
    {
      "cell_type": "markdown",
      "source": [
        "7. Write a Python program to search for literal strings within a string.\\\n",
        "Sample text : 'The quick brown fox jumps over the lazy dog.' \\\n",
        "Searched words : 'fox', 'dog', 'horse'"
      ],
      "metadata": {
        "id": "aWaHWXFjdqy7"
      }
    },
    {
      "cell_type": "code",
      "source": [
        "import re\n",
        "text = 'The quick brown fox jumps over the lazy dog.'\n",
        "searched_words = ['fox', 'dog', 'horse']\n",
        "\n",
        "def search_literal_strings(text, searched_words):\n",
        "    for word in searched_words:\n",
        "        if re.search(re.escape(word), text):\n",
        "            print(f\"'{word}' found in the text.\")\n",
        "        else:\n",
        "            print(f\"'{word}' not found in the text.\")\n",
        "\n",
        "print(\"sample text:\",text)\n",
        "print(\"searched word:\",searched_words)\n",
        "\n",
        "result=search_literal_strings(text, searched_words)\n",
        "\n"
      ],
      "metadata": {
        "id": "bVAMeTMddnmf",
        "colab": {
          "base_uri": "https://localhost:8080/"
        },
        "outputId": "bf43c549-aebe-45e4-8a51-f7616a1f1e18"
      },
      "execution_count": 15,
      "outputs": [
        {
          "output_type": "stream",
          "name": "stdout",
          "text": [
            "sample text: The quick brown fox jumps over the lazy dog.\n",
            "searched word: ['fox', 'dog', 'horse']\n",
            "'fox' found in the text.\n",
            "'dog' found in the text.\n",
            "'horse' not found in the text.\n"
          ]
        }
      ]
    },
    {
      "cell_type": "code",
      "source": [
        "import re\n",
        "\n",
        "words=[ 'fox', 'dog', 'horse']\n",
        "text='The quick brown fox jumps over the lazy dog.'\n",
        "for w in words:\n",
        "  if re.search(w,text):\n",
        "    print(f\" '{w}' is found in '{text}'\")\n",
        "  else:\n",
        "    print(f\" '{w}' is not found in '{text}'\")"
      ],
      "metadata": {
        "colab": {
          "base_uri": "https://localhost:8080/"
        },
        "id": "Bj7pDURibbfR",
        "outputId": "08a28cfd-fc1c-4149-8ae3-7178646fa40b"
      },
      "execution_count": 16,
      "outputs": [
        {
          "output_type": "stream",
          "name": "stdout",
          "text": [
            " 'fox' is found in 'The quick brown fox jumps over the lazy dog.'\n",
            " 'dog' is found in 'The quick brown fox jumps over the lazy dog.'\n",
            " 'horse' is not found in 'The quick brown fox jumps over the lazy dog.'\n"
          ]
        }
      ]
    },
    {
      "cell_type": "markdown",
      "source": [
        "8. Write a Python program to search for a literal string in a string and also find the location within the original string where the pattern occurs.\n",
        "\n",
        "Sample text : 'The quick brown fox jumps over the lazy dog.' \\\n",
        "Searched words : 'fox'"
      ],
      "metadata": {
        "id": "2cgZLc6Yd0sE"
      }
    },
    {
      "cell_type": "code",
      "source": [
        "import re\n",
        "\n",
        "text = 'The quick brown fox jumps over the lazy dog.'\n",
        "searched_word = 'fox'\n",
        "\n",
        "def litralstring_with_location(text, searched_word):\n",
        "    match = re.search(re.escape(searched_word), text)\n",
        "    if match:\n",
        "        print(f\"'{searched_word}' found in the text at position {match.start()}-{match.end()}.\")\n",
        "    else:\n",
        "        print(f\"'{searched_word}' not found in the text.\")\n",
        "\n",
        "print(\"sample text:\",text)\n",
        "print(\"searched word:\",searched_word)\n",
        "\n",
        "result=litralstring_with_location(text, searched_word)"
      ],
      "metadata": {
        "id": "Tj1FCCx4d3zZ",
        "colab": {
          "base_uri": "https://localhost:8080/"
        },
        "outputId": "ad152848-d59c-4693-f5ba-f2f67ef99149"
      },
      "execution_count": 18,
      "outputs": [
        {
          "output_type": "stream",
          "name": "stdout",
          "text": [
            "sample text: The quick brown fox jumps over the lazy dog.\n",
            "searched word: fox\n",
            "'fox' found in the text at position 16-19.\n"
          ]
        }
      ]
    },
    {
      "cell_type": "code",
      "source": [
        "import re\n",
        "\n",
        "word='fox'\n",
        "txt='The quick brown fox jumps over the lazy dog.'\n",
        "result=re.search(word,txt)\n",
        "\n",
        "print(f\" '{word}' is found in '{text}' at a position of '{result.start()}-{result.end()}'\")"
      ],
      "metadata": {
        "colab": {
          "base_uri": "https://localhost:8080/"
        },
        "id": "-9nmycBVem6V",
        "outputId": "5d24196a-f8d9-4b7a-95c3-aae4278c8c44"
      },
      "execution_count": 19,
      "outputs": [
        {
          "output_type": "stream",
          "name": "stdout",
          "text": [
            " 'fox' is found in 'The quick brown fox jumps over the lazy dog.' at a position of '16-19'\n"
          ]
        }
      ]
    },
    {
      "cell_type": "markdown",
      "source": [
        "9.  Write a Python program to extract year, month and date from an URL"
      ],
      "metadata": {
        "id": "ixuwdsnvdtcP"
      }
    },
    {
      "cell_type": "code",
      "source": [
        "import re\n",
        "\n",
        "URL= \"https://www.washingtonpost.com/news/football-insider/wp/2016/09/02/odell-beckhams-fame-rests-on-one-stupid-little-ball-josh-norman-tells-author/\"\n",
        "pattern=r'\\d{4}/\\d{1,2}/\\d{1,2}'\n",
        "result=re.findall(pattern,URL)\n",
        "\n",
        "print(result)"
      ],
      "metadata": {
        "id": "uWA2_OfJeFpw",
        "colab": {
          "base_uri": "https://localhost:8080/"
        },
        "outputId": "abdd207d-402e-41fd-a24d-aeb956cfcaeb"
      },
      "execution_count": 21,
      "outputs": [
        {
          "output_type": "stream",
          "name": "stdout",
          "text": [
            "['2016/09/02']\n"
          ]
        }
      ]
    },
    {
      "cell_type": "code",
      "source": [
        "import re\n",
        "\n",
        "url1 = \"https://www.washingtonpost.com/news/football-insider/wp/2016/09/02/odell-beckhams-fame-rests-on-one-stupid-little-ball-josh-norman-tells-author/\"\n",
        "\n",
        "def extract_date_from_URL(URL):\n",
        "    date_pattern = r'(\\d{4})/(\\d{2})/(\\d{2})'\n",
        "\n",
        "    match = re.search(date_pattern, URL)\n",
        "\n",
        "    if match:\n",
        "        year, month, day = map(int, match.groups())\n",
        "        print(f\"Year: {year}, Month: {month}, Day: {day}\")\n",
        "    else:\n",
        "        print(\"No date found in the URL.\")\n",
        "\n",
        "\n",
        "\n",
        "extract_date_from_URL(URL)\n"
      ],
      "metadata": {
        "colab": {
          "base_uri": "https://localhost:8080/"
        },
        "id": "lyp9ygeufAiD",
        "outputId": "7c0cb279-b16f-4ccf-ff54-e09bd7b62acf"
      },
      "execution_count": 27,
      "outputs": [
        {
          "output_type": "stream",
          "name": "stdout",
          "text": [
            "Year: 2016, Month: 9, Day: 2\n"
          ]
        }
      ]
    },
    {
      "cell_type": "code",
      "source": [
        "import re\n",
        "url1= \"https://www.washingtonpost.com/news/football-insider/wp/2016/09/02/odell-beckhams-fame-rests-on-one-stupid-little-ball-josh-norman\"\n",
        "p=re.compile('\\d{4}/\\d{2}/\\d{2}/')\n",
        "print(p.findall(url1))"
      ],
      "metadata": {
        "colab": {
          "base_uri": "https://localhost:8080/"
        },
        "id": "CF4ioOhsiyNn",
        "outputId": "449b68d1-5687-458c-9d0a-6e66e4d1590b"
      },
      "execution_count": 29,
      "outputs": [
        {
          "output_type": "stream",
          "name": "stdout",
          "text": [
            "['2016/09/02/']\n"
          ]
        }
      ]
    },
    {
      "cell_type": "markdown",
      "source": [
        "10. Write a Python program to find URLs in a string.\n",
        "\n"
      ],
      "metadata": {
        "id": "Qdob8Ojkea-W"
      }
    },
    {
      "cell_type": "code",
      "source": [
        "import re\n",
        "\n",
        "text = '<p>Contents :</p><a href=\"https://w3resource.com\">Python Examples</a><a href=\"http://github.com\">Even More Examples</a>'\n",
        "pattern=r'http[s]?\\://\\w+\\.\\w+'     #r'[ht]\\w*://\\w+.\\w+'\n",
        "result=re.findall(pattern,text)\n",
        "print(result)"
      ],
      "metadata": {
        "id": "d9KUcdQEeIJu",
        "colab": {
          "base_uri": "https://localhost:8080/"
        },
        "outputId": "8a303895-d362-41b8-f54c-969df5d5fab1"
      },
      "execution_count": 43,
      "outputs": [
        {
          "output_type": "stream",
          "name": "stdout",
          "text": [
            "['https://w3resource.com', 'http://github.com']\n"
          ]
        }
      ]
    },
    {
      "cell_type": "code",
      "source": [
        "import re\n",
        "\n",
        "text = '<p>Contents :</p><a href=\"https://w3resource.com\">Python Examples</a><a href=\"http://github.com\">Even More Examples</a>'\n",
        "\n",
        "def URL(text):\n",
        "    pattern = r'https?://\\S+'\n",
        "\n",
        "    url = re.findall(pattern, text)\n",
        "\n",
        "    if url:\n",
        "        for i in url:\n",
        "            print(i)\n",
        "    else:\n",
        "        print(\"No URLs found in the text.\")\n",
        "\n",
        "URL(text)\n"
      ],
      "metadata": {
        "colab": {
          "base_uri": "https://localhost:8080/"
        },
        "id": "L6Nvvgv-lgU1",
        "outputId": "684fa4fc-fd7b-4706-fa2b-fe1bcd1c107b"
      },
      "execution_count": 41,
      "outputs": [
        {
          "output_type": "stream",
          "name": "stdout",
          "text": [
            "https://w3resource.com\">Python\n",
            "http://github.com\">Even\n"
          ]
        }
      ]
    },
    {
      "cell_type": "markdown",
      "source": [
        "11. Write a Python program to remove the parenthesis area in a string.\\\n",
        "\n",
        "Sample data : [\"example (.com)\", \"w3resource\", \"github (.com)\", \"stackoverflow (.com)\"] \\\n",
        "Expected Output: \\\n",
        "example  \\\n",
        "w3resource \\\n",
        "github  \\\n",
        "stackoverflow. \\\n",
        "\n"
      ],
      "metadata": {
        "id": "5mX_cCEFepSi"
      }
    },
    {
      "cell_type": "code",
      "source": [
        "import re\n",
        "data=[\"example(.com)\", \"w3resource\", \"github(.com)\", \"stackoverflow(.com)\"]\n",
        "for pattern in data:\n",
        "  result=re.sub(r'\\(\\.\\w+\\)','',pattern)\n",
        "  print(result)"
      ],
      "metadata": {
        "id": "CNYOSWfLee_M",
        "colab": {
          "base_uri": "https://localhost:8080/"
        },
        "outputId": "57d8cd8e-0632-4988-a07b-38f5eb3e6371"
      },
      "execution_count": 44,
      "outputs": [
        {
          "output_type": "stream",
          "name": "stdout",
          "text": [
            "example\n",
            "w3resource\n",
            "github\n",
            "stackoverflow\n"
          ]
        }
      ]
    },
    {
      "cell_type": "code",
      "source": [
        "import re\n",
        "\n",
        "data = [\"example (.com)\", \"w3resource\", \"github (.com)\", \"stackoverflow (.com)\"]\n",
        "\n",
        "def remove_parenthesis_area(data):\n",
        "    result = []\n",
        "    for item in data:\n",
        "        cleaned_item = re.sub(r'\\s*\\([^)]*\\)\\s*', '', item)\n",
        "        result.append(cleaned_item)\n",
        "\n",
        "    return result\n",
        "\n",
        "\n",
        "\n",
        "result = remove_parenthesis_area(data)\n",
        "\n",
        "for item in result:\n",
        "    print(item)\n"
      ],
      "metadata": {
        "colab": {
          "base_uri": "https://localhost:8080/"
        },
        "id": "cO9OGEhZqOle",
        "outputId": "c4d91f56-4c4f-462e-8784-a2f0c434f8d2"
      },
      "execution_count": 45,
      "outputs": [
        {
          "output_type": "stream",
          "name": "stdout",
          "text": [
            "example\n",
            "w3resource\n",
            "github\n",
            "stackoverflow\n"
          ]
        }
      ]
    },
    {
      "cell_type": "markdown",
      "source": [
        "12. Write a Python program to concatenate the consecutive numbers in a given string. \\\n",
        "\n",
        "Original string:  \\\n",
        "Enter at 1 20 Kearny Street. The security desk can direct you to floor 1 6. Please have your identification ready.  \\\n",
        "\n",
        "After concatenating the consecutive numbers in the said string:  \\\n",
        "Enter at 120 Kearny Street. The security desk can direct you to floor 16. Please have your identification ready."
      ],
      "metadata": {
        "id": "sRhveFHXe7nz"
      }
    },
    {
      "cell_type": "code",
      "source": [
        "import re\n",
        "txt = \"Enter at 1 20 Kearny Street. The security desk can direct you to floor 1 6. Please have your identification ready.\"\n",
        "result = re.sub(r\"(?<=\\d)\\s(?=\\d)\", '', txt)\n",
        "\n",
        "print(result)"
      ],
      "metadata": {
        "id": "4dcBL0RTe_zP",
        "colab": {
          "base_uri": "https://localhost:8080/"
        },
        "outputId": "01e8262e-0a2d-4198-9de5-a5237054944e"
      },
      "execution_count": 46,
      "outputs": [
        {
          "output_type": "stream",
          "name": "stdout",
          "text": [
            "Enter at 120 Kearny Street. The security desk can direct you to floor 16. Please have your identification ready.\n"
          ]
        }
      ]
    },
    {
      "cell_type": "code",
      "source": [
        "import re\n",
        "\n",
        "def concatenate_consecutive_numbers(input_string):\n",
        "    pattern = re.compile(r'\\b(\\d+)\\s+(\\d+)\\b')\n",
        "\n",
        "    modified_string = pattern.sub(lambda match: match.group(1) + match.group(2), input_string)\n",
        "\n",
        "    return modified_string\n",
        "\n",
        "original_string = \"Enter at 1 20 Kearny Street. The security desk can direct you to floor 1 6. Please have your identification ready.\"\n",
        "\n",
        "result_string = concatenate_consecutive_numbers(original_string)\n",
        "print(\"original string:\",original_string)\n",
        "print(\"\\nAfter concatenating the consecutive numbers:\")\n",
        "print(result_string)\n"
      ],
      "metadata": {
        "colab": {
          "base_uri": "https://localhost:8080/"
        },
        "id": "uZvF5wEQrWQv",
        "outputId": "3cc8d34d-f3ca-4e96-d40b-e01d83462c7f"
      },
      "execution_count": 51,
      "outputs": [
        {
          "output_type": "stream",
          "name": "stdout",
          "text": [
            "original string: Enter at 1 20 Kearny Street. The security desk can direct you to floor 1 6. Please have your identification ready.\n",
            "\n",
            "After concatenating the consecutive numbers:\n",
            "Enter at 120 Kearny Street. The security desk can direct you to floor 16. Please have your identification ready.\n"
          ]
        }
      ]
    }
  ]
}