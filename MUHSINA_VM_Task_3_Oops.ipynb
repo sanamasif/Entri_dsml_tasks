{
  "nbformat": 4,
  "nbformat_minor": 0,
  "metadata": {
    "colab": {
      "provenance": []
    },
    "kernelspec": {
      "name": "python3",
      "display_name": "Python 3"
    },
    "language_info": {
      "name": "python"
    }
  },
  "cells": [
    {
      "cell_type": "markdown",
      "source": [
        "1.  Write a Python program to create a class representing a Circle. Include methods to calculate its area and perimeter.\n"
      ],
      "metadata": {
        "id": "RZv1WKkNtl9y"
      }
    },
    {
      "cell_type": "code",
      "source": [
        "import math\n",
        "class Circle:\n",
        "  radius=0.0\n",
        "  pi=math.pi\n",
        "\n",
        "  def area(self):\n",
        "    print(\"Area of the Circle=\",self.pi*self.radius**2)\n",
        "  def perimeter(self):\n",
        "    print(\"Perimeter of the circle=\",2*self.pi*self.radius)\n",
        "\n",
        "# Create an object instance of the Circle class\n",
        "circle1=Circle()\n",
        "circle1.radius=4\n",
        "\n",
        "circle1.area()\n",
        "circle1.perimeter()"
      ],
      "metadata": {
        "colab": {
          "base_uri": "https://localhost:8080/"
        },
        "id": "mRI4tXc68rcf",
        "outputId": "3fb63ea3-a4d1-41da-994e-4e92179ffb8a"
      },
      "execution_count": null,
      "outputs": [
        {
          "output_type": "stream",
          "name": "stdout",
          "text": [
            "Area of the Circle= 50.26548245743669\n",
            "Perimeter of the circle= 25.132741228718345\n"
          ]
        }
      ]
    },
    {
      "cell_type": "code",
      "source": [
        "import math\n",
        "class Circle:\n",
        "  def __init__(self,radius):\n",
        "    self.radius=radius\n",
        "  def area(self):\n",
        "    return math.pi*self.radius**2\n",
        "  def perimeter(self):\n",
        "    return 2*math.pi*self.radius\n",
        "\n",
        "radius=int(input(\"Enter the radius:\"))\n",
        "circle1=Circle(radius)\n",
        "area=circle1.area()\n",
        "perimeter=circle1.perimeter()\n",
        "\n",
        "print(\"Area of the circle:\",area)\n",
        "print(\"perimeter of the circle:\",perimeter)"
      ],
      "metadata": {
        "colab": {
          "base_uri": "https://localhost:8080/"
        },
        "id": "FTZkSxBRtqKf",
        "outputId": "4ec80b6b-702b-4a6e-80bb-06cb6233dd94"
      },
      "execution_count": null,
      "outputs": [
        {
          "output_type": "stream",
          "name": "stdout",
          "text": [
            "Enter the radius:4\n",
            "Area of the circle: 50.26548245743669\n",
            "perimeter of the circle: 25.132741228718345\n"
          ]
        }
      ]
    },
    {
      "cell_type": "markdown",
      "source": [
        "2. Write a Python program to create a calculator class. Include methods for basic arithmetic operations.\n",
        "\n"
      ],
      "metadata": {
        "id": "f9F02hM8AG_M"
      }
    },
    {
      "cell_type": "code",
      "source": [
        "class Calculator:\n",
        "  def __init__(self,a,b):\n",
        "    self.a=a\n",
        "    self.b=b\n",
        "  def addition(self):\n",
        "    return self.a+self.b\n",
        "  def substraction(self):\n",
        "    return self.a-self.b\n",
        "  def multiplication(self):\n",
        "    return self.a*self.b\n",
        "  def division(self):\n",
        "    return self.a/self.b\n",
        "  def modulus(self):\n",
        "    return self.a%self.b\n",
        "\n",
        "c=Calculator(40,20) #a=40,b=20\n",
        "a=c.addition()\n",
        "s=c.substraction()\n",
        "m=c.multiplication()\n",
        "d=c.division()\n",
        "md=c.modulus()\n",
        "\n",
        "print(\"Addition:\",a)\n",
        "print(\"substraction:\",s)\n",
        "print(\"multiplication:\",m)\n",
        "print(\"division:\",d)\n",
        "print(\"modulus:\",md)\n"
      ],
      "metadata": {
        "colab": {
          "base_uri": "https://localhost:8080/"
        },
        "id": "T-qC2GlXAIf2",
        "outputId": "1540f689-9fa4-480b-f397-fa64a3eb332f"
      },
      "execution_count": null,
      "outputs": [
        {
          "output_type": "stream",
          "name": "stdout",
          "text": [
            "Addition: 60\n",
            "substraction: 20\n",
            "multiplication: 800\n",
            "division: 2.0\n",
            "modulus: 0\n"
          ]
        }
      ]
    },
    {
      "cell_type": "code",
      "source": [
        "class Calculator:\n",
        "  def add(self,a,b):\n",
        "    return a+b\n",
        "  def sub(self,a,b):\n",
        "    return a-b\n",
        "  def multiply(self,a,b):\n",
        "    return a*b\n",
        "  def divide(self,a,b):\n",
        "    if a!=0:\n",
        "      return a/b\n",
        "    else:\n",
        "      return \"cannot divide by zero\"\n",
        "  def modulus(self,a,b):\n",
        "    return a%b\n",
        "\n",
        "#Create object an instance of the calculator class\n",
        "c=Calculator()\n",
        "\n",
        "result_addition=c.add(5,10)\n",
        "result_subtraction=c.sub(8,4)\n",
        "result_multiplication=c.multiply(5,2)\n",
        "result_division=c.divide(12,4)\n",
        "result_modulus=c.modulus(9,4)\n",
        "\n",
        "print(\"Sum of numbers=\",result_addition)\n",
        "print(\"Diference of numbers=\",result_subtraction)\n",
        "print(\"Product of numbers=\",result_multiplication)\n",
        "print('Quotient of numbers=',result_division)\n",
        "print(\"modulus of the numbers=\",result_modulus)\n"
      ],
      "metadata": {
        "colab": {
          "base_uri": "https://localhost:8080/"
        },
        "id": "a_cPoIrNEoES",
        "outputId": "1e4e39ae-0455-41f1-c902-5fe0d5cb2a89"
      },
      "execution_count": null,
      "outputs": [
        {
          "output_type": "stream",
          "name": "stdout",
          "text": [
            "Sum of numbers= 15\n",
            "Diference of numbers= 4\n",
            "Product of numbers= 10\n",
            "Quotient of numbers= 3.0\n",
            "modulus of the numbers= 1\n"
          ]
        }
      ]
    },
    {
      "cell_type": "markdown",
      "source": [
        "3. Write a Python program to create a class that represents a shape. Include methods to calculate its area and perimeter. Implement subclasses for different shapes like circle, triangle, and square.\n",
        "\n"
      ],
      "metadata": {
        "id": "xLghOcKHDCk8"
      }
    },
    {
      "cell_type": "code",
      "source": [
        "class Shape:\n",
        "  import math\n",
        "class Shape():\n",
        "    def area(self):\n",
        "        pass\n",
        "    def perimeter(self):\n",
        "        pass\n",
        "\n",
        "class Circle(Shape):\n",
        "    def __init__(self,radius):\n",
        "        self.radius=radius\n",
        "    def area(self):\n",
        "        return math.pi*self.radius**2\n",
        "    def perimeter(self):\n",
        "        return 2*math.pi*self.radius\n",
        "\n",
        "class Triangle(Shape):\n",
        "    def __init__(self,b,h,s1,s2,s3):\n",
        "        self.b=b\n",
        "        self.h=h\n",
        "        self.s1=s1\n",
        "        self.s2=s2\n",
        "        self.s3=s3\n",
        "    def area(self):\n",
        "        return (self.b*self.h)/2\n",
        "\n",
        "    def perimeter(self):\n",
        "        return self.s1+self.s2+self.s3\n",
        "\n",
        "class Square(Shape):\n",
        "    def __init__(self,side):\n",
        "        self.side=side\n",
        "    def area(self):\n",
        "        return self.side**2\n",
        "    def perimeter(self):\n",
        "        return 4*self.side\n",
        "\n",
        "c=Circle(5) #r=5\n",
        "a=c.area()\n",
        "p=c.perimeter()\n",
        "\n",
        "print(\"Area of the circle:\",a)\n",
        "print(\"perimeter of the circle:\",p)\n",
        "\n",
        "t=Triangle(4,5,3,4,5)\n",
        "a=t.area()\n",
        "p=t.perimeter()\n",
        "\n",
        "print(\"Area of the triagle:\",a)\n",
        "print(\"perimeter of the triangle:\",p)\n",
        "\n",
        "s=Square(4)\n",
        "a=s.area()\n",
        "p=s.perimeter()\n",
        "\n",
        "print(\"Area of the square:\",a)\n",
        "print(\"perimeter of the square:\",p)\n",
        "\n"
      ],
      "metadata": {
        "colab": {
          "base_uri": "https://localhost:8080/"
        },
        "id": "dHiq5rEIDDvQ",
        "outputId": "ebe3f154-2221-4fe0-9eaf-48d7f0eca514"
      },
      "execution_count": 7,
      "outputs": [
        {
          "output_type": "stream",
          "name": "stdout",
          "text": [
            "Area of the circle: 78.53981633974483\n",
            "perimeter of the circle: 31.41592653589793\n",
            "Area of the triagle: 10.0\n",
            "perimeter of the triangle: 12\n",
            "Area of the square: 16\n",
            "perimeter of the square: 16\n"
          ]
        }
      ]
    },
    {
      "cell_type": "code",
      "source": [
        "import math\n",
        "class Shape():\n",
        "    def area(self):\n",
        "        pass\n",
        "    def perimeter(self):\n",
        "        pass\n",
        "\n",
        "class Circle(Shape):\n",
        "\n",
        "    def __init__(self,radius):\n",
        "        self.radius=radius\n",
        "    def area(self):\n",
        "        return math.pi*self.radius**2\n",
        "    def perimeter(self):\n",
        "        return 2*math.pi*self.radius\n",
        "\n",
        "class Triangle(Shape):\n",
        "    def __init__(self,side1,side2,side3):\n",
        "        self.side1=side1\n",
        "        self.side2=side2\n",
        "        self.side3=side3\n",
        "    def area(self):\n",
        "        s=(self.side1+self.side2+self.side3)/2                            #Area=s×(s−a)×(s−b)×(s−c)\n",
        "        return math.sqrt(s*(s-self.side1)*(s-self.side2)*(s-self.side3))  #where s is the semi-perimeter of the triangle, calculated as s=(a+b+c)/2\n",
        "\n",
        "    def perimeter(self):\n",
        "        return self.side1+self.side2+self.side3\n",
        "\n",
        "\n",
        "class Square(Shape):\n",
        "    def __init__(self,side):\n",
        "        self.side=side\n",
        "    def area(self):\n",
        "        return self.side**2\n",
        "    def perimeter(self):\n",
        "        return 4*self.side\n",
        "\n",
        "circle=Circle(5)\n",
        "triangle=Triangle(3,4,5)\n",
        "square=Square(4)\n",
        "\n",
        "print(\"Circle:   Area=\",circle.area(),\"Perimeter=\",circle.perimeter())\n",
        "print(\"Triangle: Area=\",triangle.area(),\"Perimeter=\",triangle.perimeter())\n",
        "print(\"Square:   Area=\",square.area(),\"Perimeter=\",square.perimeter())\n"
      ],
      "metadata": {
        "colab": {
          "base_uri": "https://localhost:8080/"
        },
        "id": "Ax-66sHuV9NX",
        "outputId": "0d52d6a3-10bc-4101-e8fc-132d581968c5"
      },
      "execution_count": 5,
      "outputs": [
        {
          "output_type": "stream",
          "name": "stdout",
          "text": [
            "Circle:   Area= 78.53981633974483 Perimeter= 31.41592653589793\n",
            "Triangle: Area= 6.0 Perimeter= 12\n",
            "Square:   Area= 16 Perimeter= 16\n"
          ]
        }
      ]
    }
  ]
}