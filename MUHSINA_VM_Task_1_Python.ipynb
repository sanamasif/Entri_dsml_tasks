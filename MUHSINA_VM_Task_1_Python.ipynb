{
  "nbformat": 4,
  "nbformat_minor": 0,
  "metadata": {
    "colab": {
      "provenance": []
    },
    "kernelspec": {
      "name": "python3",
      "display_name": "Python 3"
    },
    "language_info": {
      "name": "python"
    }
  },
  "cells": [
    {
      "cell_type": "markdown",
      "source": [
        "1. Write a Python program to sum all the items in a list.\n"
      ],
      "metadata": {
        "id": "WbWqfjLILpYR"
      }
    },
    {
      "cell_type": "code",
      "execution_count": null,
      "metadata": {
        "id": "IeHCdrS5KBAJ",
        "colab": {
          "base_uri": "https://localhost:8080/"
        },
        "outputId": "51896306-db19-4253-a170-095eccf93b88"
      },
      "outputs": [
        {
          "output_type": "stream",
          "name": "stdout",
          "text": [
            "the sum of all items: 65\n"
          ]
        }
      ],
      "source": [
        "list=[11,12,13,14,15]\n",
        "x=0\n",
        "for i in list:\n",
        "  x+=i\n",
        "print(\"the sum of all items:\",x)"
      ]
    },
    {
      "cell_type": "code",
      "source": [
        "list=[11,12,13,14,15]\n",
        "print(sum(list))"
      ],
      "metadata": {
        "colab": {
          "base_uri": "https://localhost:8080/"
        },
        "id": "PTSWpMGr7PC6",
        "outputId": "ecfbd145-6614-4b00-c0fc-2e6b3686e56f"
      },
      "execution_count": null,
      "outputs": [
        {
          "output_type": "stream",
          "name": "stdout",
          "text": [
            "65\n"
          ]
        }
      ]
    },
    {
      "cell_type": "code",
      "source": [
        "list=[11,12,13,14,15]\n",
        "sum=0\n",
        "i=0\n",
        "while i<len(list):\n",
        "  sum+=list[i]\n",
        "  i+=1\n",
        "print(sum)"
      ],
      "metadata": {
        "colab": {
          "base_uri": "https://localhost:8080/"
        },
        "id": "kBVTy7TlUF_q",
        "outputId": "aad9de81-87c5-4aef-89e2-0b1fd72765ac"
      },
      "execution_count": null,
      "outputs": [
        {
          "output_type": "stream",
          "name": "stdout",
          "text": [
            "65\n"
          ]
        }
      ]
    },
    {
      "cell_type": "markdown",
      "source": [
        "2. Write a Python program to get the largest number from a list.\n"
      ],
      "metadata": {
        "id": "1NgXL_KTLulQ"
      }
    },
    {
      "cell_type": "code",
      "source": [
        "list=[11,14,18,17,12]\n",
        "list.sort()\n",
        "print(\"the largest numer is:\",list[-1])"
      ],
      "metadata": {
        "id": "W4A2hjGBLsu0",
        "colab": {
          "base_uri": "https://localhost:8080/"
        },
        "outputId": "853fd557-da71-461b-dd0f-05186b17a7c7"
      },
      "execution_count": null,
      "outputs": [
        {
          "output_type": "stream",
          "name": "stdout",
          "text": [
            "the largest numer is: 18\n"
          ]
        }
      ]
    },
    {
      "cell_type": "code",
      "source": [
        "list=[11,14,18,17,12]\n",
        "print(max(list))"
      ],
      "metadata": {
        "colab": {
          "base_uri": "https://localhost:8080/"
        },
        "id": "GAdtaf7q3RbG",
        "outputId": "e3636b03-faef-4b69-a918-05486de248f6"
      },
      "execution_count": null,
      "outputs": [
        {
          "output_type": "stream",
          "name": "stdout",
          "text": [
            "18\n"
          ]
        }
      ]
    },
    {
      "cell_type": "markdown",
      "source": [
        "3. Write a Python program to count the number of strings from a given list of strings. The string length is 2 or more and the first and last characters are the same.\n",
        "\n",
        "```\n",
        "Sample List : ['abc', 'xyz', 'aba', '1221']\n",
        "Expected Result : 2\n",
        "```"
      ],
      "metadata": {
        "id": "azKVRKqWLvtp"
      }
    },
    {
      "cell_type": "code",
      "source": [
        "list=['abc', 'xyz', 'aba', '1221']\n",
        "result=[]\n",
        "for i in list:\n",
        "  if len(i)>=2 and i[0]==i[-1]:\n",
        "    result.append(i)\n",
        "print(len(result))\n"
      ],
      "metadata": {
        "id": "4C9UmcCRL1Bp",
        "colab": {
          "base_uri": "https://localhost:8080/"
        },
        "outputId": "282c8f54-55d3-4ae0-9ea5-d5f83ad4e05d"
      },
      "execution_count": null,
      "outputs": [
        {
          "output_type": "stream",
          "name": "stdout",
          "text": [
            "2\n"
          ]
        }
      ]
    },
    {
      "cell_type": "markdown",
      "source": [
        "4. Write a Python program to remove duplicates from a list.\n"
      ],
      "metadata": {
        "id": "2ZYOfK4rL20r"
      }
    },
    {
      "cell_type": "code",
      "source": [
        "l=[1,2,3,1,2,4,1]\n",
        "set(l)"
      ],
      "metadata": {
        "id": "cwGrsN6c5AsC",
        "colab": {
          "base_uri": "https://localhost:8080/"
        },
        "outputId": "a770b153-e321-4296-bb79-79587aaffab7"
      },
      "execution_count": null,
      "outputs": [
        {
          "output_type": "execute_result",
          "data": {
            "text/plain": [
              "{1, 2, 3, 4}"
            ]
          },
          "metadata": {},
          "execution_count": 76
        }
      ]
    },
    {
      "cell_type": "code",
      "source": [
        "l=[1,2,3,1,2,4,1]\n",
        "x=[]\n",
        "for i in l:\n",
        "  if i not in x:\n",
        "    x.append(i)\n",
        "print(x)\n",
        "\n"
      ],
      "metadata": {
        "id": "sO9YHxtA8KNM",
        "colab": {
          "base_uri": "https://localhost:8080/"
        },
        "outputId": "bbcda55d-c0e2-4428-c0e6-a0c18be2cbed"
      },
      "execution_count": null,
      "outputs": [
        {
          "output_type": "stream",
          "name": "stdout",
          "text": [
            "[1, 2, 3, 4]\n"
          ]
        }
      ]
    },
    {
      "cell_type": "markdown",
      "source": [
        "5. Write a Python program to check if a list is empty or not.\n"
      ],
      "metadata": {
        "id": "kjtsEf0tL358"
      }
    },
    {
      "cell_type": "code",
      "source": [
        "list=[]\n",
        "if len(list)==0:\n",
        "  print(\"the list is empty\")\n",
        "else:\n",
        "    print(\"the list is not empty\")\n"
      ],
      "metadata": {
        "id": "e1C-5rk7L5OT",
        "colab": {
          "base_uri": "https://localhost:8080/"
        },
        "outputId": "ea59aee7-4cc0-4b9b-dde5-a917bbd2c019"
      },
      "execution_count": null,
      "outputs": [
        {
          "output_type": "stream",
          "name": "stdout",
          "text": [
            "the list is empty\n"
          ]
        }
      ]
    },
    {
      "cell_type": "code",
      "source": [
        "list=[2,4,1,6,5]\n",
        "if list!=[]:\n",
        "  print(\"the list is not empty\")\n",
        "else:\n",
        "  print(\"the list is emty\")"
      ],
      "metadata": {
        "colab": {
          "base_uri": "https://localhost:8080/"
        },
        "id": "Y4b6StL5vQww",
        "outputId": "4422ebc7-66ee-4a1a-b2a8-c592807058bb"
      },
      "execution_count": null,
      "outputs": [
        {
          "output_type": "stream",
          "name": "stdout",
          "text": [
            "the list is not empty\n"
          ]
        }
      ]
    },
    {
      "cell_type": "markdown",
      "source": [
        "6. Write a Python program to filter the list if the length of the character is < 4\n",
        "\n",
        "```\n",
        "Sample List : ['abc', 'xyz', 'aba', '1221']\n",
        "Expected Result: ['abc', 'xyz', 'aba']\n",
        "```\n"
      ],
      "metadata": {
        "id": "HPq-j6_5L6Bu"
      }
    },
    {
      "cell_type": "code",
      "source": [
        "list= ['abc', 'xyz', 'aba', '1221']\n",
        "result=[]\n",
        "for i in list:\n",
        "  if len(i)<4:\n",
        "    result.append(i)\n",
        "print(result)"
      ],
      "metadata": {
        "id": "e0Rk_iusL-Du",
        "colab": {
          "base_uri": "https://localhost:8080/"
        },
        "outputId": "8f3b7d47-d4cc-4859-a54d-50223dd7d6ed"
      },
      "execution_count": null,
      "outputs": [
        {
          "output_type": "stream",
          "name": "stdout",
          "text": [
            "['abc', 'xyz', 'aba']\n"
          ]
        }
      ]
    },
    {
      "cell_type": "markdown",
      "source": [
        "7.Write a Python program to find the second largest number in a list.\n"
      ],
      "metadata": {
        "id": "0Vo0Eo4GL_2N"
      }
    },
    {
      "cell_type": "code",
      "source": [
        "list=[12,13,14,11,10,23]\n",
        "list.sort()\n",
        "print(list[-2])"
      ],
      "metadata": {
        "id": "uIB8bq0IMAYB",
        "colab": {
          "base_uri": "https://localhost:8080/"
        },
        "outputId": "8edd627e-068e-446b-d970-3d6efe0fad27"
      },
      "execution_count": null,
      "outputs": [
        {
          "output_type": "stream",
          "name": "stdout",
          "text": [
            "14\n"
          ]
        }
      ]
    },
    {
      "cell_type": "code",
      "source": [
        "list=[12,13,14,11,10,23]\n",
        "list.sort(reverse=True)#false(ascending)\n",
        "print(list[1])"
      ],
      "metadata": {
        "colab": {
          "base_uri": "https://localhost:8080/"
        },
        "id": "PucVvVVJxm9y",
        "outputId": "a72ede2f-0808-473b-9a97-60e5f385dac3"
      },
      "execution_count": null,
      "outputs": [
        {
          "output_type": "stream",
          "name": "stdout",
          "text": [
            "14\n"
          ]
        }
      ]
    },
    {
      "cell_type": "markdown",
      "source": [
        "8. Write a Python program to reverse a list at a specific location.\n"
      ],
      "metadata": {
        "id": "aManSXvqMBoz"
      }
    },
    {
      "cell_type": "code",
      "source": [
        "loc=3\n",
        "list=[2,3,4,1,5,6,4,8,9]\n",
        "l1=list[:3]\n",
        "l2=list[3:]\n",
        "l2.reverse()\n",
        "result=l1+l2\n",
        "print(result)\n"
      ],
      "metadata": {
        "id": "6-xOhDjGMCO4",
        "colab": {
          "base_uri": "https://localhost:8080/"
        },
        "outputId": "713c7fef-a080-49f5-d5f3-c28c599b4217"
      },
      "execution_count": null,
      "outputs": [
        {
          "output_type": "stream",
          "name": "stdout",
          "text": [
            "[2, 3, 4, 9, 8, 4, 6, 5, 1]\n"
          ]
        }
      ]
    },
    {
      "cell_type": "markdown",
      "source": [
        "9. Write a Python program to check if a list is a palindrome or not. Return true otherwise false.\n"
      ],
      "metadata": {
        "id": "-mIvdmfVMCyV"
      }
    },
    {
      "cell_type": "code",
      "source": [
        "l=[1,2,3,4,3,2,1]\n",
        "l1=l.copy()\n",
        "l1.reverse()\n",
        "if l==l1:\n",
        "  print(\"true\")\n",
        "else:\n",
        "  print(\"false\")\n",
        "print(\"this list is palindrome\")\n"
      ],
      "metadata": {
        "id": "128bnAjHMD_6",
        "colab": {
          "base_uri": "https://localhost:8080/"
        },
        "outputId": "f5d4af89-751c-4be0-fece-6fc6e62da4a2"
      },
      "execution_count": null,
      "outputs": [
        {
          "output_type": "stream",
          "name": "stdout",
          "text": [
            "true\n",
            "this list is palindrome\n"
          ]
        }
      ]
    },
    {
      "cell_type": "markdown",
      "source": [
        "10. Write a Python a program to find the union and intersection of two lists.\n"
      ],
      "metadata": {
        "id": "r_OaahEUMFk9"
      }
    },
    {
      "cell_type": "code",
      "source": [
        "l1=[2,4,1,4,5,6,3,1]\n",
        "l2=[5,1,2,4,7,1,3,7]\n",
        "l3=set(l1)|set(l2)  #union\n",
        "print(l3)"
      ],
      "metadata": {
        "colab": {
          "base_uri": "https://localhost:8080/"
        },
        "id": "g5Rw-SMQMF7d",
        "outputId": "98ce3b24-9172-42be-c3ac-0340009b9575"
      },
      "execution_count": null,
      "outputs": [
        {
          "output_type": "stream",
          "name": "stdout",
          "text": [
            "{1, 2, 3, 4, 5, 6, 7}\n"
          ]
        }
      ]
    },
    {
      "cell_type": "code",
      "source": [
        "l3=set(l1)&set(l2) #intersection\n",
        "print(l3)"
      ],
      "metadata": {
        "colab": {
          "base_uri": "https://localhost:8080/"
        },
        "id": "qLPBFVIQzyNE",
        "outputId": "6e1283b9-88cc-4547-8a6a-fc5e9f5f7f1c"
      },
      "execution_count": null,
      "outputs": [
        {
          "output_type": "stream",
          "name": "stdout",
          "text": [
            "{1, 2, 3, 4, 5}\n"
          ]
        }
      ]
    },
    {
      "cell_type": "markdown",
      "source": [
        "11.Write a Python script to sort (ascending and descending) a dictionary by value\n"
      ],
      "metadata": {
        "id": "O_KaZq9mMHMo"
      }
    },
    {
      "cell_type": "code",
      "source": [
        "dict={\"ali\":12,\"babu\":23,\"shibu\":10,\"anu\":14}\n",
        "sorted(dict.values())\n",
        "asc=sorted(dict.items())\n",
        "print(asc)"
      ],
      "metadata": {
        "id": "iMEgBD_5MHe5",
        "colab": {
          "base_uri": "https://localhost:8080/"
        },
        "outputId": "6cd7336a-867d-444e-c82c-a435bbb0f01a"
      },
      "execution_count": null,
      "outputs": [
        {
          "output_type": "stream",
          "name": "stdout",
          "text": [
            "[('ali', 12), ('anu', 14), ('babu', 23), ('shibu', 10)]\n"
          ]
        }
      ]
    },
    {
      "cell_type": "code",
      "source": [
        "dict={\"ali\":12,\"babu\":23,\"shibu\":10,\"anu\":14}\n",
        "sorted(dict.values())\n",
        "dsc=sorted(dict.items())\n",
        "dsc.sort(reverse=True)\n",
        "print(dsc)"
      ],
      "metadata": {
        "id": "e_3xZg48rn2F",
        "colab": {
          "base_uri": "https://localhost:8080/"
        },
        "outputId": "f565e5c5-223a-4d93-a57e-97cc9114419d"
      },
      "execution_count": null,
      "outputs": [
        {
          "output_type": "stream",
          "name": "stdout",
          "text": [
            "[('shibu', 10), ('babu', 23), ('anu', 14), ('ali', 12)]\n"
          ]
        }
      ]
    },
    {
      "cell_type": "markdown",
      "source": [
        "12. Write a Python script to check whether a given key already exists in a dictionary.\n"
      ],
      "metadata": {
        "id": "LRtPwyETMJFB"
      }
    },
    {
      "cell_type": "code",
      "source": [
        "dict={'anu':10,'appu':15,'ammu':20}\n",
        "key='anu'\n",
        "if key in dict:\n",
        "  print(\"the key is exist\")\n",
        "else:\n",
        "  print(\"the key is not exist\")"
      ],
      "metadata": {
        "id": "CzQHm4IWMJX5",
        "colab": {
          "base_uri": "https://localhost:8080/"
        },
        "outputId": "157658a3-7b4d-4e1b-b034-368b4ac2b2e7"
      },
      "execution_count": null,
      "outputs": [
        {
          "output_type": "stream",
          "name": "stdout",
          "text": [
            "the key is exist\n"
          ]
        }
      ]
    },
    {
      "cell_type": "code",
      "source": [
        "dict={'anu':10,'appu':15,'ammu':20}\n",
        "check=input('enter required key ')\n",
        "check in dict.keys()"
      ],
      "metadata": {
        "colab": {
          "base_uri": "https://localhost:8080/"
        },
        "id": "PfvTvPmQcnCJ",
        "outputId": "1bf72c2d-9d5f-4623-b30c-b8aad47f580a"
      },
      "execution_count": null,
      "outputs": [
        {
          "name": "stdout",
          "output_type": "stream",
          "text": [
            "enter required key appu\n"
          ]
        },
        {
          "output_type": "execute_result",
          "data": {
            "text/plain": [
              "True"
            ]
          },
          "metadata": {},
          "execution_count": 93
        }
      ]
    },
    {
      "cell_type": "markdown",
      "source": [
        "13.Write a Python program to sum all the values in a dictionary.\n"
      ],
      "metadata": {
        "id": "ndM9xtBpMK7b"
      }
    },
    {
      "cell_type": "code",
      "source": [
        "d={'a':4,'b':5,'c':6,'d':7}\n",
        "sum=0\n",
        "for i in d.values():\n",
        "  sum+=i\n",
        "print(sum)\n"
      ],
      "metadata": {
        "id": "-UBNCNxbMLNa",
        "colab": {
          "base_uri": "https://localhost:8080/"
        },
        "outputId": "2995d117-07b6-4654-d67a-234ca12d4a42"
      },
      "execution_count": null,
      "outputs": [
        {
          "output_type": "stream",
          "name": "stdout",
          "text": [
            "22\n"
          ]
        }
      ]
    },
    {
      "cell_type": "markdown",
      "source": [
        "14.Write a Python program to create a dictionary with a number and its corresponding square from 1 to input number. And also check if the input number is less than 10\n",
        "\n",
        "```\n",
        "Eg:\n",
        "Input : 3\n",
        "Output : {1:1, 2:4, 3:9}\n",
        "```"
      ],
      "metadata": {
        "id": "0qVfQATqMNdJ"
      }
    },
    {
      "cell_type": "code",
      "source": [
        "x=int(input('enter the input number '))\n",
        "dict={i:i**2 for i in  range(1,x+1)}\n",
        "print('the dictionary is ',dict)\n",
        "if x<10 :\n",
        "  print(\"input number is less than 10\")\n"
      ],
      "metadata": {
        "colab": {
          "base_uri": "https://localhost:8080/"
        },
        "id": "FgxY84S0eRFA",
        "outputId": "648f52a3-9bb4-4c8a-f16b-03285eac4ff8"
      },
      "execution_count": null,
      "outputs": [
        {
          "output_type": "stream",
          "name": "stdout",
          "text": [
            "enter the input number 3\n",
            "the dictionary is  {1: 1, 2: 4, 3: 9}\n",
            "input number is less than 10\n"
          ]
        }
      ]
    },
    {
      "cell_type": "markdown",
      "source": [
        "15.Write a Python program to sort a given dictionary by key.\n"
      ],
      "metadata": {
        "id": "5Ku1ZCBMMRGO"
      }
    },
    {
      "cell_type": "code",
      "source": [
        "dict={\"ali\":12,\"babu\":23,\"shibu\":10,\"anu\":14}\n",
        "newdict={}\n",
        "sorted(dict.keys())\n",
        "for i in sorted(dict.keys()):\n",
        "  newdict[i]=dict[i]\n",
        "print(newdict)"
      ],
      "metadata": {
        "id": "Uo1ha3q4MRaG",
        "colab": {
          "base_uri": "https://localhost:8080/"
        },
        "outputId": "93bda360-55c2-450b-dee2-69f97b629b83"
      },
      "execution_count": null,
      "outputs": [
        {
          "output_type": "stream",
          "name": "stdout",
          "text": [
            "{'ali': 12, 'anu': 14, 'babu': 23, 'shibu': 10}\n"
          ]
        }
      ]
    },
    {
      "cell_type": "markdown",
      "source": [
        "16.  Write a Python program to create a dictionary from a string.\n",
        "\n",
        "```\n",
        "Note: Track the count of the letters from the string.\n",
        "Sample string : 'learnpython'\n",
        "Expected output: {'l': 1, 'e': 1, 'a': 1, 'r': 1, 'n': 2, 'p': 1, 'y': 1, 't': 1, 'h': 1, 'o': 1}\n",
        "\n",
        "```"
      ],
      "metadata": {
        "id": "VFB6DT7uMTCo"
      }
    },
    {
      "cell_type": "code",
      "source": [
        "s='learnpython'\n",
        "dict={}\n",
        "for i in s:\n",
        "  dict[i]=dict.get(i,0)+1\n",
        "print(dict)"
      ],
      "metadata": {
        "id": "Pst-k-SZMTUo",
        "colab": {
          "base_uri": "https://localhost:8080/"
        },
        "outputId": "9e4181f5-436f-436f-a234-70f08c69ab28"
      },
      "execution_count": null,
      "outputs": [
        {
          "output_type": "stream",
          "name": "stdout",
          "text": [
            "{'l': 1, 'e': 1, 'a': 1, 'r': 1, 'n': 2, 'p': 1, 'y': 1, 't': 1, 'h': 1, 'o': 1}\n"
          ]
        }
      ]
    },
    {
      "cell_type": "markdown",
      "source": [
        "17. Write a Python program to get the top three items in a shop.\n",
        "\n",
        "```\n",
        "Sample data: {'item1': 45.50, 'item2':35, 'item3': 41.30, 'item4':55, 'item5': 24}\n",
        "\n",
        "Expected Output:\n",
        "item4 55\n",
        "item1 45.5\n",
        "item3 41.3\n",
        "```\n"
      ],
      "metadata": {
        "id": "OnYknUtWMYSr"
      }
    },
    {
      "cell_type": "code",
      "source": [
        "data={'item1': 45.50, 'item2':35, 'item3': 41.30, 'item4':55, 'item5': 24}\n",
        "sortdata=sorted(data.items(),key=lambda x:x[1],reverse=True)\n",
        "for i in range(3):\n",
        "  print(sortdata[i])\n"
      ],
      "metadata": {
        "id": "2q8ev-kbMas2",
        "colab": {
          "base_uri": "https://localhost:8080/"
        },
        "outputId": "4b250868-822c-4618-a82f-7481e99ef693"
      },
      "execution_count": null,
      "outputs": [
        {
          "output_type": "stream",
          "name": "stdout",
          "text": [
            "('item4', 55)\n",
            "('item1', 45.5)\n",
            "('item3', 41.3)\n"
          ]
        }
      ]
    },
    {
      "cell_type": "code",
      "source": [],
      "metadata": {
        "id": "_6uauKq7sCtm"
      },
      "execution_count": null,
      "outputs": []
    },
    {
      "cell_type": "code",
      "source": [],
      "metadata": {
        "id": "NJhUygp3sskx"
      },
      "execution_count": null,
      "outputs": []
    }
  ]
}