{
  "nbformat": 4,
  "nbformat_minor": 0,
  "metadata": {
    "colab": {
      "provenance": []
    },
    "kernelspec": {
      "name": "python3",
      "display_name": "Python 3"
    },
    "language_info": {
      "name": "python"
    }
  },
  "cells": [
    {
      "cell_type": "markdown",
      "source": [
        "Exercise 1: Create a function with a default argument\n",
        "Write a program to create a function show_employee() using the following conditions.\n",
        "It should accept the employee’s name and salary and display both.\n",
        "If the salary is missing in the function call then assign default value 9000 to salary   \n",
        "\n",
        "Given:\n",
        "\n",
        "showEmployee(\"Ben\", 12000)\n",
        "\n",
        "showEmployee(\"Jessa\")\n",
        "\n",
        "Expected output:\n",
        "\n",
        "Name: Ben salary: 12000\n",
        "\n",
        "Name: Jessa salary: 9000\n"
      ],
      "metadata": {
        "id": "wFk_P5S6J73y"
      }
    },
    {
      "cell_type": "code",
      "execution_count": null,
      "metadata": {
        "id": "rHyfG0r_I-HM",
        "colab": {
          "base_uri": "https://localhost:8080/"
        },
        "outputId": "44f4cbff-533c-4ea2-8ef7-77a1c5d45cf5"
      },
      "outputs": [
        {
          "output_type": "stream",
          "name": "stdout",
          "text": [
            "Name:Ben salary:12000\n",
            "Name:Jessa salary:9000\n"
          ]
        }
      ],
      "source": [
        "def show_employee(name,salary=9000):\n",
        "  print(f'Name:{name} salary:{salary}')#print(\"name:\" + name + \",salary:\"+str(salary))\n",
        "\n",
        "show_employee(\"Ben\",12000)\n",
        "show_employee(\"Jessa\")\n"
      ]
    },
    {
      "cell_type": "markdown",
      "source": [
        "Exercise 2: Create an inner function to calculate the addition in the following way\n",
        "\n",
        "Create an outer function that will accept two parameters, a and b\n",
        "Create an inner function inside an outer function that will calculate the addition of a and b\n",
        "\n",
        "At last, an outer function will add 5 into addition and return it\n"
      ],
      "metadata": {
        "id": "_PAr1dfPP8wB"
      }
    },
    {
      "cell_type": "code",
      "source": [
        "def outer_function(a,b):\n",
        "  def inner_function(a,b):\n",
        "    return a+b\n",
        "\n",
        "  result=inner_function(a,b)+ 5\n",
        "  return result\n",
        "\n",
        "final_result=outer_function(5,10)\n",
        "print(final_result)\n"
      ],
      "metadata": {
        "colab": {
          "base_uri": "https://localhost:8080/"
        },
        "id": "2J5_ypz0Pazs",
        "outputId": "391c4374-0c89-4704-f875-42c9aa87c1ea"
      },
      "execution_count": null,
      "outputs": [
        {
          "output_type": "stream",
          "name": "stdout",
          "text": [
            "20\n"
          ]
        }
      ]
    },
    {
      "cell_type": "markdown",
      "source": [
        "Exercise 3: Generate a Python list of all the even numbers between 4 to 30\n"
      ],
      "metadata": {
        "id": "oOoi5-cwUsrW"
      }
    },
    {
      "cell_type": "code",
      "source": [
        "list(range(4,31,2))"
      ],
      "metadata": {
        "colab": {
          "base_uri": "https://localhost:8080/"
        },
        "id": "qt-D_3LjUwJA",
        "outputId": "7e001aaf-3c42-4b06-963c-66890efa6949"
      },
      "execution_count": null,
      "outputs": [
        {
          "output_type": "execute_result",
          "data": {
            "text/plain": [
              "[4, 6, 8, 10, 12, 14, 16, 18, 20, 22, 24, 26, 28, 30]"
            ]
          },
          "metadata": {},
          "execution_count": 1
        }
      ]
    },
    {
      "cell_type": "code",
      "source": [
        "l=range(4,31)\n",
        "even_number=list(filter(lambda x:x%2==0,l))\n",
        "print(even_number)"
      ],
      "metadata": {
        "colab": {
          "base_uri": "https://localhost:8080/"
        },
        "id": "yHi7Wce4V6pU",
        "outputId": "df32fd7a-d976-4a77-c8eb-5733f5abcb3d"
      },
      "execution_count": null,
      "outputs": [
        {
          "output_type": "stream",
          "name": "stdout",
          "text": [
            "[4, 6, 8, 10, 12, 14, 16, 18, 20, 22, 24, 26, 28, 30]\n"
          ]
        }
      ]
    },
    {
      "cell_type": "markdown",
      "source": [
        "Exercise 4: Lambda Function to Check if value is in a List\n",
        "Given a list, the task is to write a Python program to check if the value exists in the list or not using the lambda function.\n",
        "\n",
        "\n",
        "Input  : L = [1, 2, 3, 4, 5]\n",
        "          element = 4\n",
        "Output :  Element is Present in the list\n",
        "\n",
        "Input :  L = [1, 2, 3, 4, 5]\n",
        "          element = 8\n",
        "Output :  Element is NOT Present in the list\n",
        "\n",
        "\n"
      ],
      "metadata": {
        "id": "IKV3He-pYNbb"
      }
    },
    {
      "cell_type": "code",
      "source": [
        "def check_value(a):\n",
        "  l=[1,2,3,4,5]\n",
        "\n",
        "  if a in l:\n",
        "    print(\"elememt is present in the list\")\n",
        "  else:\n",
        "    print(\"element is not present in the list\")\n",
        "\n",
        "f=lambda a:check_value(a)\n",
        "f(4)\n",
        "f(8)"
      ],
      "metadata": {
        "colab": {
          "base_uri": "https://localhost:8080/"
        },
        "id": "ssUNhUfyXo3S",
        "outputId": "cf722530-df22-4b15-91b6-2e5807f85eb1"
      },
      "execution_count": null,
      "outputs": [
        {
          "output_type": "stream",
          "name": "stdout",
          "text": [
            "elememt is present in the list\n",
            "element is not present in the list\n"
          ]
        }
      ]
    },
    {
      "cell_type": "markdown",
      "source": [
        "Exercise 5: Sort list of tuples with their sum\n",
        "Sort the points based on their sum of elements in the tuples\n",
        "\n",
        "points = [(1, 2), (5, 3), (0, 7), (3, 1)]\n"
      ],
      "metadata": {
        "id": "P6WNtM4qa8sJ"
      }
    },
    {
      "cell_type": "code",
      "source": [
        "l=[(1, 2), (5, 3), (0, 7), (3, 1)]\n",
        "l.sort(key=lambda x:sum(x))\n",
        "print(l)"
      ],
      "metadata": {
        "colab": {
          "base_uri": "https://localhost:8080/"
        },
        "id": "LrgQz-ffbAzg",
        "outputId": "0366dbb6-f380-4991-8d5f-8ff85106f3f4"
      },
      "execution_count": null,
      "outputs": [
        {
          "output_type": "stream",
          "name": "stdout",
          "text": [
            "[(1, 2), (3, 1), (0, 7), (5, 3)]\n"
          ]
        }
      ]
    },
    {
      "cell_type": "markdown",
      "source": [
        "Exercise 6 :\n",
        "Write a python function, which will find all such numbers between 1000 and 3000 (both included) such that each digit of the number is an even number. Return the results as a list\n",
        "\n"
      ],
      "metadata": {
        "id": "czGDOkj_eMMC"
      }
    },
    {
      "cell_type": "code",
      "source": [
        "def fun1(a,b):\n",
        "  item=[]\n",
        "  for i in range(1000,3001):\n",
        "    if i%2==0:\n",
        "      item.append(i)\n",
        "  return item\n",
        "\n",
        "result=list(fun1(1000,3001))\n",
        "print(result)"
      ],
      "metadata": {
        "id": "3idVpK6EdQnN",
        "colab": {
          "base_uri": "https://localhost:8080/"
        },
        "outputId": "8c466482-b039-4687-bfd8-8963ca4edd6e"
      },
      "execution_count": null,
      "outputs": [
        {
          "output_type": "stream",
          "name": "stdout",
          "text": [
            "[1000, 1002, 1004, 1006, 1008, 1010, 1012, 1014, 1016, 1018, 1020, 1022, 1024, 1026, 1028, 1030, 1032, 1034, 1036, 1038, 1040, 1042, 1044, 1046, 1048, 1050, 1052, 1054, 1056, 1058, 1060, 1062, 1064, 1066, 1068, 1070, 1072, 1074, 1076, 1078, 1080, 1082, 1084, 1086, 1088, 1090, 1092, 1094, 1096, 1098, 1100, 1102, 1104, 1106, 1108, 1110, 1112, 1114, 1116, 1118, 1120, 1122, 1124, 1126, 1128, 1130, 1132, 1134, 1136, 1138, 1140, 1142, 1144, 1146, 1148, 1150, 1152, 1154, 1156, 1158, 1160, 1162, 1164, 1166, 1168, 1170, 1172, 1174, 1176, 1178, 1180, 1182, 1184, 1186, 1188, 1190, 1192, 1194, 1196, 1198, 1200, 1202, 1204, 1206, 1208, 1210, 1212, 1214, 1216, 1218, 1220, 1222, 1224, 1226, 1228, 1230, 1232, 1234, 1236, 1238, 1240, 1242, 1244, 1246, 1248, 1250, 1252, 1254, 1256, 1258, 1260, 1262, 1264, 1266, 1268, 1270, 1272, 1274, 1276, 1278, 1280, 1282, 1284, 1286, 1288, 1290, 1292, 1294, 1296, 1298, 1300, 1302, 1304, 1306, 1308, 1310, 1312, 1314, 1316, 1318, 1320, 1322, 1324, 1326, 1328, 1330, 1332, 1334, 1336, 1338, 1340, 1342, 1344, 1346, 1348, 1350, 1352, 1354, 1356, 1358, 1360, 1362, 1364, 1366, 1368, 1370, 1372, 1374, 1376, 1378, 1380, 1382, 1384, 1386, 1388, 1390, 1392, 1394, 1396, 1398, 1400, 1402, 1404, 1406, 1408, 1410, 1412, 1414, 1416, 1418, 1420, 1422, 1424, 1426, 1428, 1430, 1432, 1434, 1436, 1438, 1440, 1442, 1444, 1446, 1448, 1450, 1452, 1454, 1456, 1458, 1460, 1462, 1464, 1466, 1468, 1470, 1472, 1474, 1476, 1478, 1480, 1482, 1484, 1486, 1488, 1490, 1492, 1494, 1496, 1498, 1500, 1502, 1504, 1506, 1508, 1510, 1512, 1514, 1516, 1518, 1520, 1522, 1524, 1526, 1528, 1530, 1532, 1534, 1536, 1538, 1540, 1542, 1544, 1546, 1548, 1550, 1552, 1554, 1556, 1558, 1560, 1562, 1564, 1566, 1568, 1570, 1572, 1574, 1576, 1578, 1580, 1582, 1584, 1586, 1588, 1590, 1592, 1594, 1596, 1598, 1600, 1602, 1604, 1606, 1608, 1610, 1612, 1614, 1616, 1618, 1620, 1622, 1624, 1626, 1628, 1630, 1632, 1634, 1636, 1638, 1640, 1642, 1644, 1646, 1648, 1650, 1652, 1654, 1656, 1658, 1660, 1662, 1664, 1666, 1668, 1670, 1672, 1674, 1676, 1678, 1680, 1682, 1684, 1686, 1688, 1690, 1692, 1694, 1696, 1698, 1700, 1702, 1704, 1706, 1708, 1710, 1712, 1714, 1716, 1718, 1720, 1722, 1724, 1726, 1728, 1730, 1732, 1734, 1736, 1738, 1740, 1742, 1744, 1746, 1748, 1750, 1752, 1754, 1756, 1758, 1760, 1762, 1764, 1766, 1768, 1770, 1772, 1774, 1776, 1778, 1780, 1782, 1784, 1786, 1788, 1790, 1792, 1794, 1796, 1798, 1800, 1802, 1804, 1806, 1808, 1810, 1812, 1814, 1816, 1818, 1820, 1822, 1824, 1826, 1828, 1830, 1832, 1834, 1836, 1838, 1840, 1842, 1844, 1846, 1848, 1850, 1852, 1854, 1856, 1858, 1860, 1862, 1864, 1866, 1868, 1870, 1872, 1874, 1876, 1878, 1880, 1882, 1884, 1886, 1888, 1890, 1892, 1894, 1896, 1898, 1900, 1902, 1904, 1906, 1908, 1910, 1912, 1914, 1916, 1918, 1920, 1922, 1924, 1926, 1928, 1930, 1932, 1934, 1936, 1938, 1940, 1942, 1944, 1946, 1948, 1950, 1952, 1954, 1956, 1958, 1960, 1962, 1964, 1966, 1968, 1970, 1972, 1974, 1976, 1978, 1980, 1982, 1984, 1986, 1988, 1990, 1992, 1994, 1996, 1998, 2000, 2002, 2004, 2006, 2008, 2010, 2012, 2014, 2016, 2018, 2020, 2022, 2024, 2026, 2028, 2030, 2032, 2034, 2036, 2038, 2040, 2042, 2044, 2046, 2048, 2050, 2052, 2054, 2056, 2058, 2060, 2062, 2064, 2066, 2068, 2070, 2072, 2074, 2076, 2078, 2080, 2082, 2084, 2086, 2088, 2090, 2092, 2094, 2096, 2098, 2100, 2102, 2104, 2106, 2108, 2110, 2112, 2114, 2116, 2118, 2120, 2122, 2124, 2126, 2128, 2130, 2132, 2134, 2136, 2138, 2140, 2142, 2144, 2146, 2148, 2150, 2152, 2154, 2156, 2158, 2160, 2162, 2164, 2166, 2168, 2170, 2172, 2174, 2176, 2178, 2180, 2182, 2184, 2186, 2188, 2190, 2192, 2194, 2196, 2198, 2200, 2202, 2204, 2206, 2208, 2210, 2212, 2214, 2216, 2218, 2220, 2222, 2224, 2226, 2228, 2230, 2232, 2234, 2236, 2238, 2240, 2242, 2244, 2246, 2248, 2250, 2252, 2254, 2256, 2258, 2260, 2262, 2264, 2266, 2268, 2270, 2272, 2274, 2276, 2278, 2280, 2282, 2284, 2286, 2288, 2290, 2292, 2294, 2296, 2298, 2300, 2302, 2304, 2306, 2308, 2310, 2312, 2314, 2316, 2318, 2320, 2322, 2324, 2326, 2328, 2330, 2332, 2334, 2336, 2338, 2340, 2342, 2344, 2346, 2348, 2350, 2352, 2354, 2356, 2358, 2360, 2362, 2364, 2366, 2368, 2370, 2372, 2374, 2376, 2378, 2380, 2382, 2384, 2386, 2388, 2390, 2392, 2394, 2396, 2398, 2400, 2402, 2404, 2406, 2408, 2410, 2412, 2414, 2416, 2418, 2420, 2422, 2424, 2426, 2428, 2430, 2432, 2434, 2436, 2438, 2440, 2442, 2444, 2446, 2448, 2450, 2452, 2454, 2456, 2458, 2460, 2462, 2464, 2466, 2468, 2470, 2472, 2474, 2476, 2478, 2480, 2482, 2484, 2486, 2488, 2490, 2492, 2494, 2496, 2498, 2500, 2502, 2504, 2506, 2508, 2510, 2512, 2514, 2516, 2518, 2520, 2522, 2524, 2526, 2528, 2530, 2532, 2534, 2536, 2538, 2540, 2542, 2544, 2546, 2548, 2550, 2552, 2554, 2556, 2558, 2560, 2562, 2564, 2566, 2568, 2570, 2572, 2574, 2576, 2578, 2580, 2582, 2584, 2586, 2588, 2590, 2592, 2594, 2596, 2598, 2600, 2602, 2604, 2606, 2608, 2610, 2612, 2614, 2616, 2618, 2620, 2622, 2624, 2626, 2628, 2630, 2632, 2634, 2636, 2638, 2640, 2642, 2644, 2646, 2648, 2650, 2652, 2654, 2656, 2658, 2660, 2662, 2664, 2666, 2668, 2670, 2672, 2674, 2676, 2678, 2680, 2682, 2684, 2686, 2688, 2690, 2692, 2694, 2696, 2698, 2700, 2702, 2704, 2706, 2708, 2710, 2712, 2714, 2716, 2718, 2720, 2722, 2724, 2726, 2728, 2730, 2732, 2734, 2736, 2738, 2740, 2742, 2744, 2746, 2748, 2750, 2752, 2754, 2756, 2758, 2760, 2762, 2764, 2766, 2768, 2770, 2772, 2774, 2776, 2778, 2780, 2782, 2784, 2786, 2788, 2790, 2792, 2794, 2796, 2798, 2800, 2802, 2804, 2806, 2808, 2810, 2812, 2814, 2816, 2818, 2820, 2822, 2824, 2826, 2828, 2830, 2832, 2834, 2836, 2838, 2840, 2842, 2844, 2846, 2848, 2850, 2852, 2854, 2856, 2858, 2860, 2862, 2864, 2866, 2868, 2870, 2872, 2874, 2876, 2878, 2880, 2882, 2884, 2886, 2888, 2890, 2892, 2894, 2896, 2898, 2900, 2902, 2904, 2906, 2908, 2910, 2912, 2914, 2916, 2918, 2920, 2922, 2924, 2926, 2928, 2930, 2932, 2934, 2936, 2938, 2940, 2942, 2944, 2946, 2948, 2950, 2952, 2954, 2956, 2958, 2960, 2962, 2964, 2966, 2968, 2970, 2972, 2974, 2976, 2978, 2980, 2982, 2984, 2986, 2988, 2990, 2992, 2994, 2996, 2998, 3000]\n"
          ]
        }
      ]
    },
    {
      "cell_type": "code",
      "source": [
        "def find_even_digit_numbers():\n",
        "    result = []\n",
        "    for num in range(1000, 3001):\n",
        "        all_even_digits = all(int(digit) % 2 == 0 for digit in str(num))\n",
        "        if all_even_digits:\n",
        "            result.append(num)\n",
        "    return result\n",
        "\n",
        "even_digit_numbers = find_even_digit_numbers()\n",
        "print(even_digit_numbers)\n"
      ],
      "metadata": {
        "colab": {
          "base_uri": "https://localhost:8080/"
        },
        "id": "niC1rhmmrRpx",
        "outputId": "87f40cf2-c86e-43df-9b0b-3047b4b49e44"
      },
      "execution_count": 5,
      "outputs": [
        {
          "output_type": "stream",
          "name": "stdout",
          "text": [
            "[2000, 2002, 2004, 2006, 2008, 2020, 2022, 2024, 2026, 2028, 2040, 2042, 2044, 2046, 2048, 2060, 2062, 2064, 2066, 2068, 2080, 2082, 2084, 2086, 2088, 2200, 2202, 2204, 2206, 2208, 2220, 2222, 2224, 2226, 2228, 2240, 2242, 2244, 2246, 2248, 2260, 2262, 2264, 2266, 2268, 2280, 2282, 2284, 2286, 2288, 2400, 2402, 2404, 2406, 2408, 2420, 2422, 2424, 2426, 2428, 2440, 2442, 2444, 2446, 2448, 2460, 2462, 2464, 2466, 2468, 2480, 2482, 2484, 2486, 2488, 2600, 2602, 2604, 2606, 2608, 2620, 2622, 2624, 2626, 2628, 2640, 2642, 2644, 2646, 2648, 2660, 2662, 2664, 2666, 2668, 2680, 2682, 2684, 2686, 2688, 2800, 2802, 2804, 2806, 2808, 2820, 2822, 2824, 2826, 2828, 2840, 2842, 2844, 2846, 2848, 2860, 2862, 2864, 2866, 2868, 2880, 2882, 2884, 2886, 2888]\n"
          ]
        }
      ]
    },
    {
      "cell_type": "markdown",
      "source": [
        "Exercise 7 :\n",
        "Write a python function that accepts a sentence and calculate and return the number of letters and digits.\n",
        "Suppose the following input is supplied to the program:\n",
        "\n",
        "hello world! 123\n",
        "\n",
        "Then, the output should be:\n",
        "\n",
        "LETTERS 10\n",
        "\n",
        "DIGITS 3\n"
      ],
      "metadata": {
        "id": "7ZnPQ9goeeH6"
      }
    },
    {
      "cell_type": "code",
      "source": [
        "def count_letter_and_digit(sentence):\n",
        "  letter_count=sum(i.isalpha() for i in sentence)\n",
        "  digit_count=sum(i.isdigit() for i in sentence)\n",
        "\n",
        "  return f\"LETTERS {letter_count}\\nDIGITS {digit_count}\"\n",
        "\n",
        "input=\"hello world! 123\"\n",
        "result=count_letter_and_digit(input)\n",
        "print(result)\n"
      ],
      "metadata": {
        "colab": {
          "base_uri": "https://localhost:8080/"
        },
        "id": "8dO1B1_ggIhe",
        "outputId": "f1cb977a-55ad-4ea5-98ab-13555ca97d80"
      },
      "execution_count": 3,
      "outputs": [
        {
          "output_type": "stream",
          "name": "stdout",
          "text": [
            "LETTERS 10\n",
            "DIGITS 3\n"
          ]
        }
      ]
    },
    {
      "cell_type": "code",
      "source": [
        "sentence = lambda x: (sum(map(str.isalpha, x)), sum(map(str.isnumeric, x)))\n",
        "\n",
        "# Call the lambda function with a sample string\n",
        "alpha, num = sentence(\"hello world! 123\")\n",
        "\n",
        "# Print the counts\n",
        "print(\"LETTERS:\", alpha)\n",
        "print(\"DIGITS:\", num)\n"
      ],
      "metadata": {
        "colab": {
          "base_uri": "https://localhost:8080/"
        },
        "id": "k-MeZBYPslEg",
        "outputId": "92595600-d6cb-415e-b37d-bda85f7dfd3f"
      },
      "execution_count": 8,
      "outputs": [
        {
          "output_type": "stream",
          "name": "stdout",
          "text": [
            "LETTERS: 10\n",
            "DIGITS: 3\n"
          ]
        }
      ]
    },
    {
      "cell_type": "markdown",
      "source": [
        "Exercise 8  MAP:\n",
        "Write a Python program to convert all the characters into uppercase and lowercase and eliminate duplicate letters from a given sequence. Use the map() function\n"
      ],
      "metadata": {
        "id": "FSIR-Pk0j-D0"
      }
    },
    {
      "cell_type": "code",
      "source": [
        "def upper_lower_duplicate(sentence):\n",
        "  upper_case=list(map(lambda x:x.upper(),sentence))\n",
        "  lower_case=list(map(lambda x:x.lower(),sentence))\n",
        "  duplicate=list(set(sentence))\n",
        "\n",
        "  return upper_case,lower_case,duplicate\n",
        "\n",
        "sentence=\"hi welcom to hellow world\"\n",
        "upper_case,lower_case,duplicate=upper_lower_duplicate(sentence)\n",
        "print(upper_case)\n",
        "print(lower_case)\n",
        "print(duplicate)\n",
        "\n"
      ],
      "metadata": {
        "id": "zJjh7Cb7kETB",
        "colab": {
          "base_uri": "https://localhost:8080/"
        },
        "outputId": "3da55e3d-6d12-400c-e7bc-c24ae4da90dc"
      },
      "execution_count": null,
      "outputs": [
        {
          "output_type": "stream",
          "name": "stdout",
          "text": [
            "['H', 'I', ' ', 'W', 'E', 'L', 'C', 'O', 'M', ' ', 'T', 'O', ' ', 'H', 'E', 'L', 'L', 'O', 'W', ' ', 'W', 'O', 'R', 'L', 'D']\n",
            "['h', 'i', ' ', 'w', 'e', 'l', 'c', 'o', 'm', ' ', 't', 'o', ' ', 'h', 'e', 'l', 'l', 'o', 'w', ' ', 'w', 'o', 'r', 'l', 'd']\n",
            "['w', 'd', 'i', 'r', ' ', 'h', 'c', 'l', 'm', 'e', 'o', 't']\n"
          ]
        }
      ]
    },
    {
      "cell_type": "markdown",
      "source": [
        "Exercise 9 MAP:\n",
        " Write a Python program to element wise add two given lists and find the difference between them. Use the map() function\n"
      ],
      "metadata": {
        "id": "1vrcrHsGOhL0"
      }
    },
    {
      "cell_type": "code",
      "source": [
        "l1=[6,7,8,9,10] #using lambda\n",
        "l2=[1,2,3,4,5]\n",
        "\n",
        "sum=list(map(lambda a,b:a+b,l1,l2))\n",
        "difference=list(map(lambda a,b:a-b,l1,l2))\n",
        "\n",
        "print(\"result of addition:\",sum)\n",
        "print(\"result of difference:\",difference)"
      ],
      "metadata": {
        "colab": {
          "base_uri": "https://localhost:8080/"
        },
        "id": "kwTuY2NEOUiu",
        "outputId": "33c474cb-1ef4-473d-f778-4b169f489c1b"
      },
      "execution_count": null,
      "outputs": [
        {
          "output_type": "stream",
          "name": "stdout",
          "text": [
            "result of addition: [7, 9, 11, 13, 15]\n",
            "result of difference: [5, 5, 5, 5, 5]\n"
          ]
        }
      ]
    },
    {
      "cell_type": "code",
      "source": [
        "l1=[6,7,8,9,10]\n",
        "l2=[1,2,3,4,5]\n",
        "def sum(a,b):\n",
        "  return a+b\n",
        "def diff(a,b):\n",
        "  return a-b\n",
        "\n",
        "sum_result=list(map(sum,l1,l2))\n",
        "diff_result=list(map(diff,l1,l2))\n",
        "print(\"sum:\",sum_result)\n",
        "print(\"difference:\",diff_result)"
      ],
      "metadata": {
        "colab": {
          "base_uri": "https://localhost:8080/"
        },
        "id": "RItBgjBkG9re",
        "outputId": "1b9fce0e-37ec-4348-8fa5-220cf4eae8ac"
      },
      "execution_count": null,
      "outputs": [
        {
          "output_type": "stream",
          "name": "stdout",
          "text": [
            "sum: [7, 9, 11, 13, 15]\n",
            "difference: [5, 5, 5, 5, 5]\n"
          ]
        }
      ]
    },
    {
      "cell_type": "markdown",
      "source": [
        "Exercise 10 Filter:\n",
        "Write a Python program to filter the height and weight of students, which are stored in a dictionary using lambda.\n",
        "\n",
        "Original Dictionary:\n",
        "\n",
        "{'Cierra Vega': (6.2, 71), 'Alden Cantrell': (5.9, 65), 'Kierra Gentry': (6.0, 68), 'Pierre Cox': (5.8, 66)}\n",
        "\n",
        "Height> 6ft and Weight> 70kg:\n",
        "\n",
        "{'Cierra Vega': (6.2, 71)}\n"
      ],
      "metadata": {
        "id": "wOz0iCayR523"
      }
    },
    {
      "cell_type": "code",
      "source": [
        "students={'Cierra Vega': (6.2, 71), 'Alden Cantrell': (5.9, 65), 'Kierra Gentry': (6.0, 68), 'Pierre Cox': (5.8, 66)}\n",
        "students.items()\n",
        "result=dict(filter(lambda a:a[1][0]>6 and a[1][1]>70,students.items()))\n",
        "\n",
        "print(\"Original Dictionary:\",students)\n",
        "print(\"Height> 6ft and Weight> 70kg:\",result)"
      ],
      "metadata": {
        "colab": {
          "base_uri": "https://localhost:8080/"
        },
        "id": "CgBz79AQSAEX",
        "outputId": "ee3eb982-34c1-4f26-c1b2-9a042299f0fd"
      },
      "execution_count": null,
      "outputs": [
        {
          "output_type": "stream",
          "name": "stdout",
          "text": [
            "Original Dictionary: {'Cierra Vega': (6.2, 71), 'Alden Cantrell': (5.9, 65), 'Kierra Gentry': (6.0, 68), 'Pierre Cox': (5.8, 66)}\n",
            "Height> 6ft and Weight> 70kg: {'Cierra Vega': (6.2, 71)}\n"
          ]
        }
      ]
    },
    {
      "cell_type": "markdown",
      "source": [
        "Exercise 11 Filter:\n",
        "Write a Python program to remove all elements from a given list present in another list using lambda.\n",
        "\n",
        "Original lists:\n",
        "\n",
        "list1: [1, 2, 3, 4, 5, 6, 7, 8, 9, 10]\n",
        "list2: [2, 4, 6, 8]\n",
        "\n",
        "Remove all elements from 'list1' present in 'list2:\n",
        "\n",
        "[1, 3, 5, 7, 9, 10]\n",
        "\n",
        "\n"
      ],
      "metadata": {
        "id": "idNXXpQNXyGE"
      }
    },
    {
      "cell_type": "code",
      "source": [
        "l1=[1,2,3,4,5,6,7,8,9,10]\n",
        "l2=[2,4,6,8]\n",
        "result=list(filter(lambda x:x not in l2,l1))\n",
        "\n",
        "print(\"original lists:\",l1,l2)\n",
        "print(\"remove all elements from list1 present list2:\",result)"
      ],
      "metadata": {
        "id": "WqSO_hcYX7e0",
        "colab": {
          "base_uri": "https://localhost:8080/"
        },
        "outputId": "a9dc1721-fb41-4fc8-83fe-282f655e458d"
      },
      "execution_count": null,
      "outputs": [
        {
          "output_type": "stream",
          "name": "stdout",
          "text": [
            "original lists: [1, 2, 3, 4, 5, 6, 7, 8, 9, 10] [2, 4, 6, 8]\n",
            "remove all elements from list1 present list2: [1, 3, 5, 7, 9, 10]\n"
          ]
        }
      ]
    },
    {
      "cell_type": "markdown",
      "source": [
        "Exercise 12 Reduce:\n",
        "\n",
        "\n",
        "Write a Python program to calculate the product of a given list of numbers using lambda.\n",
        "\n",
        "list1: [1, 2, 3, 4, 5, 6, 7, 8, 9, 10]\n",
        "\n",
        "Product of the said list numbers:\n",
        "\n",
        "3628800\n"
      ],
      "metadata": {
        "id": "qLb1Q5jbX8I5"
      }
    },
    {
      "cell_type": "code",
      "source": [
        "import functools\n",
        "l1= [1, 2, 3, 4, 5, 6, 7, 8, 9, 10]\n",
        "result=functools.reduce(lambda a,b:a*b,l1)\n",
        "print(\"product of the said list number:\",result)"
      ],
      "metadata": {
        "id": "fxW3T5NMYE6M",
        "colab": {
          "base_uri": "https://localhost:8080/"
        },
        "outputId": "6980f09c-9a27-4b32-f045-f02f0306de8c"
      },
      "execution_count": null,
      "outputs": [
        {
          "output_type": "stream",
          "name": "stdout",
          "text": [
            "product of the said list number: 3628800\n"
          ]
        }
      ]
    },
    {
      "cell_type": "markdown",
      "source": [
        "\n",
        "\n",
        "Exercise 13 Reduce:\n",
        "\n",
        "\n",
        " Write a Python program to multiply all the numbers in a given list using lambda.\n",
        "\n",
        "Original list:\n",
        "\n",
        "[4, 3, 2, 2, -1, 18]\n",
        "\n",
        "Mmultiply all the numbers of the said list: -864\n"
      ],
      "metadata": {
        "id": "NVKjgzgrYGPT"
      }
    },
    {
      "cell_type": "code",
      "source": [
        "import functools\n",
        "l1=[4,3,2,2,-1,18]\n",
        "result=functools.reduce(lambda x,y:x*y,l1)\n",
        "\n",
        "print(\"multiply all the numbers of the said list:\",result)\n"
      ],
      "metadata": {
        "id": "hgWax4rAYNfw",
        "colab": {
          "base_uri": "https://localhost:8080/"
        },
        "outputId": "7f398c03-f7dc-4dc4-9a9d-d2c2b33a76c2"
      },
      "execution_count": null,
      "outputs": [
        {
          "output_type": "stream",
          "name": "stdout",
          "text": [
            "multiply all the numbers of the said list: -864\n"
          ]
        }
      ]
    },
    {
      "cell_type": "markdown",
      "source": [
        "\n",
        "\n",
        "Exercise 14 Reduce:\n",
        "\n",
        "\n",
        "Write a Python program to calculate the average value of the numbers in a given tuple of tuples using lambda.\n",
        "\n",
        "Original Tuple:\n",
        "\n",
        "((10, 10, 10), (30, 45, 56), (81, 80, 39), (1, 2, 3))\n",
        "\n",
        "Average value of the numbers of the said tuple of tuples:\n",
        "\n",
        "(30.5, 34.25, 27.0)\n"
      ],
      "metadata": {
        "id": "dWWxtHotYX_M"
      }
    },
    {
      "cell_type": "code",
      "source": [
        "t=((10, 10, 10), (30, 45, 56), (81, 80, 39), (1, 2, 3))\n",
        "y=tuple(zip(*t))\n",
        "result=tuple(map(lambda x:sum(x)/len(x),y))\n",
        "\n",
        "print(\"original tuple:\",t)\n",
        "print(\"average value of the number of the said tuple of tuple:\\n\",result)\n"
      ],
      "metadata": {
        "id": "JJb-O677YdgD",
        "colab": {
          "base_uri": "https://localhost:8080/"
        },
        "outputId": "00dacdaa-3172-4199-b9fb-2b42154f5791"
      },
      "execution_count": null,
      "outputs": [
        {
          "output_type": "stream",
          "name": "stdout",
          "text": [
            "original tuple: ((10, 10, 10), (30, 45, 56), (81, 80, 39), (1, 2, 3))\n",
            "average value of the number of the said tuple of tuple:\n",
            " (30.5, 34.25, 27.0)\n"
          ]
        }
      ]
    },
    {
      "cell_type": "markdown",
      "source": [
        "Exercise 15:\n",
        "\n",
        "\n",
        "Write a Python program to sort a given mixed list of integers and strings using lambda. Numbers must be sorted before strings.\n",
        "\n",
        "Original list:\n",
        "\n",
        "[19, 'red', 12, 'green', 'blue', 10, 'white', 'green', 1]\n",
        "\n",
        "Sort the said mixed list of integers and strings:\n",
        "\n",
        "[1, 10, 12, 19, 'blue', 'green', 'green', 'red', 'white']\n"
      ],
      "metadata": {
        "id": "DidQTb27Yd3b"
      }
    },
    {
      "cell_type": "code",
      "source": [
        "Original_list=[19, 'red', 12, 'green', 'blue', 10, 'white', 'green', 1]\n",
        "result=sorted(Original_list,key=lambda x:(type(x)is str,x))#isintance(x,str)\n",
        "\n",
        "print(\"original list:\")\n",
        "print(Original_list)\n",
        "print(\"sort the said mixed list of integers and string:\")\n",
        "print(result)"
      ],
      "metadata": {
        "id": "1vCrcNEAYkrX",
        "colab": {
          "base_uri": "https://localhost:8080/"
        },
        "outputId": "1829e88b-de32-4ab9-89e2-f386639bd4c3"
      },
      "execution_count": null,
      "outputs": [
        {
          "output_type": "stream",
          "name": "stdout",
          "text": [
            "original list:\n",
            "[19, 'red', 12, 'green', 'blue', 10, 'white', 'green', 1]\n",
            "sort the said mixed list of integers and string:\n",
            "[1, 10, 12, 19, 'blue', 'green', 'green', 'red', 'white']\n"
          ]
        }
      ]
    },
    {
      "cell_type": "code",
      "source": [
        "l=[19, 'red', 12, 'green', 'blue', 10, 'white', 'green', 1]\n",
        "def filter_list(l):\n",
        "\n",
        "  a=[]\n",
        "  b=[]\n",
        "  for element in l:\n",
        "    if isinstance(element,int):#isinstance-type checking\n",
        "      a.append(element)\n",
        "    else:\n",
        "      b.append(element)\n",
        "  a.sort()\n",
        "  b.sort()\n",
        "  return a+b\n",
        "result=filter_list(l)\n",
        "print(result)"
      ],
      "metadata": {
        "colab": {
          "base_uri": "https://localhost:8080/"
        },
        "id": "F9bm_-y7SHM3",
        "outputId": "6300eafe-a12d-42ba-fb85-d697ca4fb88f"
      },
      "execution_count": null,
      "outputs": [
        {
          "output_type": "stream",
          "name": "stdout",
          "text": [
            "[1, 10, 12, 19, 'blue', 'green', 'green', 'red', 'white']\n"
          ]
        }
      ]
    },
    {
      "cell_type": "markdown",
      "source": [
        "Exercise 16:\n",
        "Write a Python program to count the occurrences of items in a given list using lambda.\n",
        "\n",
        "Original list:\n",
        "\n",
        "[3, 4, 5, 8, 0, 3, 8, 5, 0, 3, 1, 5, 2, 3, 4, 2]\n",
        "\n",
        "Count the occurrences of the items in the said list:\n",
        "\n",
        "{3: 4, 4: 2, 5: 3, 8: 2, 0: 2, 1: 1, 2: 2}\n"
      ],
      "metadata": {
        "id": "xhynwjyeYmaS"
      }
    },
    {
      "cell_type": "code",
      "source": [
        "l1=[3, 4, 5, 8, 0, 3, 8, 5, 0, 3, 1, 5, 2, 3, 4, 2]\n",
        "result=dict(map(lambda x:(x,l1.count(x)),l1))\n",
        "\n",
        "print(\"original list:\",l1)\n",
        "print(\"count the occurence of the items in the said list:\",result)"
      ],
      "metadata": {
        "id": "P4rZuy7iYtTD",
        "colab": {
          "base_uri": "https://localhost:8080/"
        },
        "outputId": "2de1757b-3db5-4c58-de34-f6a1fdc29f9b"
      },
      "execution_count": null,
      "outputs": [
        {
          "output_type": "stream",
          "name": "stdout",
          "text": [
            "original list: [3, 4, 5, 8, 0, 3, 8, 5, 0, 3, 1, 5, 2, 3, 4, 2]\n",
            "count the occurence of the items in the said list: {3: 4, 4: 2, 5: 3, 8: 2, 0: 2, 1: 1, 2: 2}\n"
          ]
        }
      ]
    },
    {
      "cell_type": "markdown",
      "source": [
        "\n",
        "\n",
        "Exercise 17:\n",
        "\n",
        "\n",
        "Write a Python program to remove None values from a given list using the lambda function.\n",
        "\n",
        "Original list:\n",
        "\n",
        "[12, 0, None, 23, None, -55, 234, 89, None, 0, 6, -12]\n",
        "\n",
        "Remove None value from the said list:\n",
        "\n",
        "[12, 0, 23, -55, 234, 89, 0, 6, -12]\n",
        "\n",
        "\n"
      ],
      "metadata": {
        "id": "EddlUZU2Ytmk"
      }
    },
    {
      "cell_type": "code",
      "source": [
        "Original_list=[12, 0, None, 23, None, -55, 234, 89, None, 0, 6, -12]\n",
        "result=list(filter(lambda x:x is not None,Original_list))\n",
        "\n",
        "print(\"original list:\",Original_list)\n",
        "print(\"remove None value from the said list:\",result)"
      ],
      "metadata": {
        "colab": {
          "base_uri": "https://localhost:8080/"
        },
        "id": "kKaY23mgK526",
        "outputId": "52c70190-83cd-43f4-bde5-cf6e06334fb4"
      },
      "execution_count": null,
      "outputs": [
        {
          "output_type": "stream",
          "name": "stdout",
          "text": [
            "original list: [12, 0, None, 23, None, -55, 234, 89, None, 0, 6, -12]\n",
            "remove None value from the said list: [12, 0, 23, -55, 234, 89, 0, 6, -12]\n"
          ]
        }
      ]
    },
    {
      "cell_type": "code",
      "source": [],
      "metadata": {
        "id": "s0tGlOGxM_5H"
      },
      "execution_count": null,
      "outputs": []
    }
  ]
}